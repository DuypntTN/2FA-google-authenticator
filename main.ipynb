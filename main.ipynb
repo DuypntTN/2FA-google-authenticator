{
  "cells": [
    {
      "cell_type": "markdown",
      "metadata": {
        "id": "view-in-github",
        "colab_type": "text"
      },
      "source": [
        "<a href=\"https://colab.research.google.com/github/DuypntTN/2FA-google-authenticator/blob/main/main.ipynb\" target=\"_parent\"><img src=\"https://colab.research.google.com/assets/colab-badge.svg\" alt=\"Open In Colab\"/></a>"
      ]
    },
    {
      "cell_type": "code",
      "execution_count": 1,
      "metadata": {
        "id": "uqMD8KAnQ6jV"
      },
      "outputs": [],
      "source": [
        "import numpy\n",
        "import pandas as pd"
      ]
    },
    {
      "cell_type": "code",
      "source": [
        "!ls"
      ],
      "metadata": {
        "colab": {
          "base_uri": "https://localhost:8080/"
        },
        "id": "0STo0N-URShz",
        "outputId": "ea08ce85-79a9-48d7-9233-a1067f5f08e3"
      },
      "execution_count": 3,
      "outputs": [
        {
          "output_type": "stream",
          "name": "stdout",
          "text": [
            "datasets  sample_data\n"
          ]
        }
      ]
    },
    {
      "cell_type": "code",
      "execution_count": 5,
      "metadata": {
        "id": "Y4Ex_tkxQ6jW"
      },
      "outputs": [],
      "source": [
        "# Load the CSV files into Pandas DataFrames\n",
        "politifact_fake_df = pd.read_csv('./datasets/politifact_fake.csv')\n",
        "politifact_real_df = pd.read_csv('./datasets/politifact_real.csv')\n",
        "gossipcop_fake_df = pd.read_csv('./datasets/gossipcop_fake.csv')\n",
        "gossipcop_real_df = pd.read_csv('./datasets/gossipcop_fake.csv')"
      ]
    },
    {
      "cell_type": "code",
      "execution_count": null,
      "metadata": {
        "id": "Sov4drLQQ6jW",
        "outputId": "8d0b9695-c870-4fe8-9f59-ad5aa8fad539"
      },
      "outputs": [
        {
          "data": {
            "text/html": [
              "<div>\n",
              "<style scoped>\n",
              "    .dataframe tbody tr th:only-of-type {\n",
              "        vertical-align: middle;\n",
              "    }\n",
              "\n",
              "    .dataframe tbody tr th {\n",
              "        vertical-align: top;\n",
              "    }\n",
              "\n",
              "    .dataframe thead th {\n",
              "        text-align: right;\n",
              "    }\n",
              "</style>\n",
              "<table border=\"1\" class=\"dataframe\">\n",
              "  <thead>\n",
              "    <tr style=\"text-align: right;\">\n",
              "      <th></th>\n",
              "      <th>id</th>\n",
              "      <th>news_url</th>\n",
              "      <th>title</th>\n",
              "      <th>tweet_ids</th>\n",
              "    </tr>\n",
              "  </thead>\n",
              "  <tbody>\n",
              "    <tr>\n",
              "      <th>0</th>\n",
              "      <td>politifact15014</td>\n",
              "      <td>speedtalk.com/forum/viewtopic.php?t=51650</td>\n",
              "      <td>BREAKING: First NFL Team Declares Bankruptcy O...</td>\n",
              "      <td>937349434668498944\\t937379378006282240\\t937380...</td>\n",
              "    </tr>\n",
              "    <tr>\n",
              "      <th>1</th>\n",
              "      <td>politifact15156</td>\n",
              "      <td>politics2020.info/index.php/2018/03/13/court-o...</td>\n",
              "      <td>Court Orders Obama To Pay $400 Million In Rest...</td>\n",
              "      <td>972666281441878016\\t972678396575559680\\t972827...</td>\n",
              "    </tr>\n",
              "    <tr>\n",
              "      <th>2</th>\n",
              "      <td>politifact14745</td>\n",
              "      <td>www.nscdscamps.org/blog/category/parenting/467...</td>\n",
              "      <td>UPDATE: Second Roy Moore Accuser Works For Mic...</td>\n",
              "      <td>929405740732870656\\t929439450400264192\\t929439...</td>\n",
              "    </tr>\n",
              "    <tr>\n",
              "      <th>3</th>\n",
              "      <td>politifact14355</td>\n",
              "      <td>https://howafrica.com/oscar-pistorius-attempts...</td>\n",
              "      <td>Oscar Pistorius Attempts To Commit Suicide</td>\n",
              "      <td>886941526458347521\\t887011300278194176\\t887023...</td>\n",
              "    </tr>\n",
              "    <tr>\n",
              "      <th>4</th>\n",
              "      <td>politifact15371</td>\n",
              "      <td>http://washingtonsources.org/trump-votes-for-d...</td>\n",
              "      <td>Trump Votes For Death Penalty For Being Gay</td>\n",
              "      <td>915205698212040704\\t915242076681506816\\t915249...</td>\n",
              "    </tr>\n",
              "  </tbody>\n",
              "</table>\n",
              "</div>"
            ],
            "text/plain": [
              "                id                                           news_url  \\\n",
              "0  politifact15014          speedtalk.com/forum/viewtopic.php?t=51650   \n",
              "1  politifact15156  politics2020.info/index.php/2018/03/13/court-o...   \n",
              "2  politifact14745  www.nscdscamps.org/blog/category/parenting/467...   \n",
              "3  politifact14355  https://howafrica.com/oscar-pistorius-attempts...   \n",
              "4  politifact15371  http://washingtonsources.org/trump-votes-for-d...   \n",
              "\n",
              "                                               title  \\\n",
              "0  BREAKING: First NFL Team Declares Bankruptcy O...   \n",
              "1  Court Orders Obama To Pay $400 Million In Rest...   \n",
              "2  UPDATE: Second Roy Moore Accuser Works For Mic...   \n",
              "3         Oscar Pistorius Attempts To Commit Suicide   \n",
              "4        Trump Votes For Death Penalty For Being Gay   \n",
              "\n",
              "                                           tweet_ids  \n",
              "0  937349434668498944\\t937379378006282240\\t937380...  \n",
              "1  972666281441878016\\t972678396575559680\\t972827...  \n",
              "2  929405740732870656\\t929439450400264192\\t929439...  \n",
              "3  886941526458347521\\t887011300278194176\\t887023...  \n",
              "4  915205698212040704\\t915242076681506816\\t915249...  "
            ]
          },
          "execution_count": 3,
          "metadata": {},
          "output_type": "execute_result"
        }
      ],
      "source": [
        "politifact_fake_df.head()"
      ]
    },
    {
      "cell_type": "markdown",
      "metadata": {
        "id": "aEaBLFjiQ6jX"
      },
      "source": [
        "## First we  have to analyse the dataset"
      ]
    },
    {
      "cell_type": "code",
      "execution_count": 6,
      "metadata": {
        "colab": {
          "base_uri": "https://localhost:8080/"
        },
        "id": "VxHTMPTiQ6jX",
        "outputId": "6a4475c5-ce71-4a0c-a0b7-f47a8d5943ae"
      },
      "outputs": [
        {
          "output_type": "stream",
          "name": "stdout",
          "text": [
            "Number of rows in fake news dataset: 247\n",
            "Number of columns in fake news dataset: 4\n",
            "Data types in fake news dataset:\n",
            "id           object\n",
            "news_url     object\n",
            "title        object\n",
            "tweet_ids    object\n",
            "dtype: object\n",
            "Missing values in fake news dataset:\n",
            "id            0\n",
            "news_url      1\n",
            "title         0\n",
            "tweet_ids    22\n",
            "dtype: int64\n",
            "Missing values in real news dataset:\n",
            "id            0\n",
            "news_url     17\n",
            "title         0\n",
            "tweet_ids    66\n",
            "dtype: int64\n"
          ]
        }
      ],
      "source": [
        "# Basic dataset information\n",
        "print(\"Number of rows in fake news dataset:\", politifact_fake_df.shape[0])\n",
        "print(\"Number of columns in fake news dataset:\", politifact_fake_df.shape[1])\n",
        "print(\"Data types in fake news dataset:\")\n",
        "print(politifact_fake_df.dtypes)\n",
        "\n",
        "\n",
        "# Check for missing values\n",
        "print(\"Missing values in fake news dataset:\")\n",
        "print(politifact_fake_df.isnull().sum())\n",
        "\n",
        "print(\"Missing values in real news dataset:\")\n",
        "print(politifact_real_df.isnull().sum())\n"
      ]
    },
    {
      "cell_type": "code",
      "execution_count": 7,
      "metadata": {
        "colab": {
          "base_uri": "https://localhost:8080/"
        },
        "id": "syJnQyc8Q6jY",
        "outputId": "61719424-0770-4390-e84a-6007ebf7e13a"
      },
      "outputs": [
        {
          "output_type": "stream",
          "name": "stdout",
          "text": [
            "Number of rows after dropping null values in fake news dataset: 224\n",
            "Number of rows after dropping null values in fake news dataset: 189\n"
          ]
        }
      ],
      "source": [
        "# Drop rows with null values from the fake news dataset\n",
        "politifact_fake_df = politifact_fake_df.dropna()\n",
        "\n",
        "# Verify that null values have been removed\n",
        "print(\"Number of rows after dropping null values in fake news dataset:\", politifact_fake_df.shape[0])\n",
        "\n",
        "# Drop rows with null values from the real news dataset\n",
        "politifact_fake_df = politifact_real_df.dropna()\n",
        "\n",
        "# Verify that null values have been removed\n",
        "print(\"Number of rows after dropping null values in fake news dataset:\", politifact_real_df.shape[0])"
      ]
    },
    {
      "cell_type": "code",
      "execution_count": 8,
      "metadata": {
        "colab": {
          "base_uri": "https://localhost:8080/"
        },
        "id": "MeaXdyHZQ6jY",
        "outputId": "7a050552-6343-487e-b338-6159edb94233"
      },
      "outputs": [
        {
          "output_type": "stream",
          "name": "stderr",
          "text": [
            "[nltk_data] Downloading package stopwords to /root/nltk_data...\n",
            "[nltk_data]   Unzipping corpora/stopwords.zip.\n",
            "[nltk_data] Downloading package punkt to /root/nltk_data...\n",
            "[nltk_data]   Unzipping tokenizers/punkt.zip.\n"
          ]
        },
        {
          "output_type": "execute_result",
          "data": {
            "text/plain": [
              "True"
            ]
          },
          "metadata": {},
          "execution_count": 8
        }
      ],
      "source": [
        "import nltk\n",
        "from nltk.corpus import stopwords\n",
        "from nltk.tokenize import word_tokenize\n",
        "nltk.download('stopwords')\n",
        "nltk.download('punkt')"
      ]
    },
    {
      "cell_type": "code",
      "execution_count": 9,
      "metadata": {
        "colab": {
          "base_uri": "https://localhost:8080/"
        },
        "id": "s4ZAbLAEQ6jY",
        "outputId": "f1b8ae03-d39d-4fa0-eac7-e42902d5cff6"
      },
      "outputs": [
        {
          "output_type": "stream",
          "name": "stderr",
          "text": [
            "<ipython-input-9-4d6edc5b314b>:2: SettingWithCopyWarning: \n",
            "A value is trying to be set on a copy of a slice from a DataFrame.\n",
            "Try using .loc[row_indexer,col_indexer] = value instead\n",
            "\n",
            "See the caveats in the documentation: https://pandas.pydata.org/pandas-docs/stable/user_guide/indexing.html#returning-a-view-versus-a-copy\n",
            "  politifact_fake_df.loc[:, 'title'] = politifact_fake_df['title'].apply(lambda x: [word.lower() for word in x if word.isalnum() and word not in stop_words])\n"
          ]
        }
      ],
      "source": [
        "stop_words = set(stopwords.words('english'))\n",
        "politifact_fake_df.loc[:, 'title'] = politifact_fake_df['title'].apply(lambda x: [word.lower() for word in x if word.isalnum() and word not in stop_words])\n",
        "\n",
        "# Lowercase and tokenize the title column for real news (assuming it's already tokenized)\n",
        "# Remove stopwords and punctuation for real news\n",
        "politifact_real_df.loc[:, 'title'] = politifact_real_df['title'].apply(lambda x: [word.lower() for word in x if word.isalnum() and word not in stop_words])"
      ]
    },
    {
      "cell_type": "code",
      "execution_count": 10,
      "metadata": {
        "colab": {
          "base_uri": "https://localhost:8080/",
          "height": 206
        },
        "id": "yUL5U8GTQ6jY",
        "outputId": "264bc4b9-dca8-46c2-93bd-6d670fbaff41"
      },
      "outputs": [
        {
          "output_type": "execute_result",
          "data": {
            "text/plain": [
              "                id                                           news_url  \\\n",
              "0  politifact14984                          http://www.nfib-sbet.org/   \n",
              "1  politifact12944  http://www.cq.com/doc/newsmakertranscripts-494...   \n",
              "4    politifact779  https://web.archive.org/web/20070820164107/htt...   \n",
              "5  politifact14064  http://www.politifact.com/truth-o-meter/statem...   \n",
              "6  politifact14474  https://www.law.cornell.edu/constitution/amend...   \n",
              "\n",
              "                                               title  \\\n",
              "0  [n, n, l, f, e, e, r, n, f, i, n, e, p, e, n, ...   \n",
              "1            [c, e, n, n, f, e, e, v, l, l, e, n, c]   \n",
              "4  [b, u, g, e, f, h, e, u, n, e, s, e, g, v, e, ...   \n",
              "5  [d, n, l, t, r, u, p, e, x, g, g, e, r, e, w, ...   \n",
              "6                           [2, 5, h, a, e, n, e, n]   \n",
              "\n",
              "                                           tweet_ids  \n",
              "0  967132259869487105\\t967164368768196609\\t967215...  \n",
              "1  942953459\\t8980098198\\t16253717352\\t1668513250...  \n",
              "4  89804710374154240\\t91270460595109888\\t96039619...  \n",
              "5  690248006399049728\\t690254026663821312\\t690276...  \n",
              "6  1262604762\\t10969740933\\t11182364398\\t17507543...  "
            ],
            "text/html": [
              "\n",
              "  <div id=\"df-69e07de3-6635-4bd7-afdd-956a87ffedc8\" class=\"colab-df-container\">\n",
              "    <div>\n",
              "<style scoped>\n",
              "    .dataframe tbody tr th:only-of-type {\n",
              "        vertical-align: middle;\n",
              "    }\n",
              "\n",
              "    .dataframe tbody tr th {\n",
              "        vertical-align: top;\n",
              "    }\n",
              "\n",
              "    .dataframe thead th {\n",
              "        text-align: right;\n",
              "    }\n",
              "</style>\n",
              "<table border=\"1\" class=\"dataframe\">\n",
              "  <thead>\n",
              "    <tr style=\"text-align: right;\">\n",
              "      <th></th>\n",
              "      <th>id</th>\n",
              "      <th>news_url</th>\n",
              "      <th>title</th>\n",
              "      <th>tweet_ids</th>\n",
              "    </tr>\n",
              "  </thead>\n",
              "  <tbody>\n",
              "    <tr>\n",
              "      <th>0</th>\n",
              "      <td>politifact14984</td>\n",
              "      <td>http://www.nfib-sbet.org/</td>\n",
              "      <td>[n, n, l, f, e, e, r, n, f, i, n, e, p, e, n, ...</td>\n",
              "      <td>967132259869487105\\t967164368768196609\\t967215...</td>\n",
              "    </tr>\n",
              "    <tr>\n",
              "      <th>1</th>\n",
              "      <td>politifact12944</td>\n",
              "      <td>http://www.cq.com/doc/newsmakertranscripts-494...</td>\n",
              "      <td>[c, e, n, n, f, e, e, v, l, l, e, n, c]</td>\n",
              "      <td>942953459\\t8980098198\\t16253717352\\t1668513250...</td>\n",
              "    </tr>\n",
              "    <tr>\n",
              "      <th>4</th>\n",
              "      <td>politifact779</td>\n",
              "      <td>https://web.archive.org/web/20070820164107/htt...</td>\n",
              "      <td>[b, u, g, e, f, h, e, u, n, e, s, e, g, v, e, ...</td>\n",
              "      <td>89804710374154240\\t91270460595109888\\t96039619...</td>\n",
              "    </tr>\n",
              "    <tr>\n",
              "      <th>5</th>\n",
              "      <td>politifact14064</td>\n",
              "      <td>http://www.politifact.com/truth-o-meter/statem...</td>\n",
              "      <td>[d, n, l, t, r, u, p, e, x, g, g, e, r, e, w, ...</td>\n",
              "      <td>690248006399049728\\t690254026663821312\\t690276...</td>\n",
              "    </tr>\n",
              "    <tr>\n",
              "      <th>6</th>\n",
              "      <td>politifact14474</td>\n",
              "      <td>https://www.law.cornell.edu/constitution/amend...</td>\n",
              "      <td>[2, 5, h, a, e, n, e, n]</td>\n",
              "      <td>1262604762\\t10969740933\\t11182364398\\t17507543...</td>\n",
              "    </tr>\n",
              "  </tbody>\n",
              "</table>\n",
              "</div>\n",
              "    <div class=\"colab-df-buttons\">\n",
              "\n",
              "  <div class=\"colab-df-container\">\n",
              "    <button class=\"colab-df-convert\" onclick=\"convertToInteractive('df-69e07de3-6635-4bd7-afdd-956a87ffedc8')\"\n",
              "            title=\"Convert this dataframe to an interactive table.\"\n",
              "            style=\"display:none;\">\n",
              "\n",
              "  <svg xmlns=\"http://www.w3.org/2000/svg\" height=\"24px\" viewBox=\"0 -960 960 960\">\n",
              "    <path d=\"M120-120v-720h720v720H120Zm60-500h600v-160H180v160Zm220 220h160v-160H400v160Zm0 220h160v-160H400v160ZM180-400h160v-160H180v160Zm440 0h160v-160H620v160ZM180-180h160v-160H180v160Zm440 0h160v-160H620v160Z\"/>\n",
              "  </svg>\n",
              "    </button>\n",
              "\n",
              "  <style>\n",
              "    .colab-df-container {\n",
              "      display:flex;\n",
              "      gap: 12px;\n",
              "    }\n",
              "\n",
              "    .colab-df-convert {\n",
              "      background-color: #E8F0FE;\n",
              "      border: none;\n",
              "      border-radius: 50%;\n",
              "      cursor: pointer;\n",
              "      display: none;\n",
              "      fill: #1967D2;\n",
              "      height: 32px;\n",
              "      padding: 0 0 0 0;\n",
              "      width: 32px;\n",
              "    }\n",
              "\n",
              "    .colab-df-convert:hover {\n",
              "      background-color: #E2EBFA;\n",
              "      box-shadow: 0px 1px 2px rgba(60, 64, 67, 0.3), 0px 1px 3px 1px rgba(60, 64, 67, 0.15);\n",
              "      fill: #174EA6;\n",
              "    }\n",
              "\n",
              "    .colab-df-buttons div {\n",
              "      margin-bottom: 4px;\n",
              "    }\n",
              "\n",
              "    [theme=dark] .colab-df-convert {\n",
              "      background-color: #3B4455;\n",
              "      fill: #D2E3FC;\n",
              "    }\n",
              "\n",
              "    [theme=dark] .colab-df-convert:hover {\n",
              "      background-color: #434B5C;\n",
              "      box-shadow: 0px 1px 3px 1px rgba(0, 0, 0, 0.15);\n",
              "      filter: drop-shadow(0px 1px 2px rgba(0, 0, 0, 0.3));\n",
              "      fill: #FFFFFF;\n",
              "    }\n",
              "  </style>\n",
              "\n",
              "    <script>\n",
              "      const buttonEl =\n",
              "        document.querySelector('#df-69e07de3-6635-4bd7-afdd-956a87ffedc8 button.colab-df-convert');\n",
              "      buttonEl.style.display =\n",
              "        google.colab.kernel.accessAllowed ? 'block' : 'none';\n",
              "\n",
              "      async function convertToInteractive(key) {\n",
              "        const element = document.querySelector('#df-69e07de3-6635-4bd7-afdd-956a87ffedc8');\n",
              "        const dataTable =\n",
              "          await google.colab.kernel.invokeFunction('convertToInteractive',\n",
              "                                                    [key], {});\n",
              "        if (!dataTable) return;\n",
              "\n",
              "        const docLinkHtml = 'Like what you see? Visit the ' +\n",
              "          '<a target=\"_blank\" href=https://colab.research.google.com/notebooks/data_table.ipynb>data table notebook</a>'\n",
              "          + ' to learn more about interactive tables.';\n",
              "        element.innerHTML = '';\n",
              "        dataTable['output_type'] = 'display_data';\n",
              "        await google.colab.output.renderOutput(dataTable, element);\n",
              "        const docLink = document.createElement('div');\n",
              "        docLink.innerHTML = docLinkHtml;\n",
              "        element.appendChild(docLink);\n",
              "      }\n",
              "    </script>\n",
              "  </div>\n",
              "\n",
              "\n",
              "<div id=\"df-37b52e0b-27f0-4db7-880d-3b9a305d851d\">\n",
              "  <button class=\"colab-df-quickchart\" onclick=\"quickchart('df-37b52e0b-27f0-4db7-880d-3b9a305d851d')\"\n",
              "            title=\"Suggest charts.\"\n",
              "            style=\"display:none;\">\n",
              "\n",
              "<svg xmlns=\"http://www.w3.org/2000/svg\" height=\"24px\"viewBox=\"0 0 24 24\"\n",
              "     width=\"24px\">\n",
              "    <g>\n",
              "        <path d=\"M19 3H5c-1.1 0-2 .9-2 2v14c0 1.1.9 2 2 2h14c1.1 0 2-.9 2-2V5c0-1.1-.9-2-2-2zM9 17H7v-7h2v7zm4 0h-2V7h2v10zm4 0h-2v-4h2v4z\"/>\n",
              "    </g>\n",
              "</svg>\n",
              "  </button>\n",
              "\n",
              "<style>\n",
              "  .colab-df-quickchart {\n",
              "      --bg-color: #E8F0FE;\n",
              "      --fill-color: #1967D2;\n",
              "      --hover-bg-color: #E2EBFA;\n",
              "      --hover-fill-color: #174EA6;\n",
              "      --disabled-fill-color: #AAA;\n",
              "      --disabled-bg-color: #DDD;\n",
              "  }\n",
              "\n",
              "  [theme=dark] .colab-df-quickchart {\n",
              "      --bg-color: #3B4455;\n",
              "      --fill-color: #D2E3FC;\n",
              "      --hover-bg-color: #434B5C;\n",
              "      --hover-fill-color: #FFFFFF;\n",
              "      --disabled-bg-color: #3B4455;\n",
              "      --disabled-fill-color: #666;\n",
              "  }\n",
              "\n",
              "  .colab-df-quickchart {\n",
              "    background-color: var(--bg-color);\n",
              "    border: none;\n",
              "    border-radius: 50%;\n",
              "    cursor: pointer;\n",
              "    display: none;\n",
              "    fill: var(--fill-color);\n",
              "    height: 32px;\n",
              "    padding: 0;\n",
              "    width: 32px;\n",
              "  }\n",
              "\n",
              "  .colab-df-quickchart:hover {\n",
              "    background-color: var(--hover-bg-color);\n",
              "    box-shadow: 0 1px 2px rgba(60, 64, 67, 0.3), 0 1px 3px 1px rgba(60, 64, 67, 0.15);\n",
              "    fill: var(--button-hover-fill-color);\n",
              "  }\n",
              "\n",
              "  .colab-df-quickchart-complete:disabled,\n",
              "  .colab-df-quickchart-complete:disabled:hover {\n",
              "    background-color: var(--disabled-bg-color);\n",
              "    fill: var(--disabled-fill-color);\n",
              "    box-shadow: none;\n",
              "  }\n",
              "\n",
              "  .colab-df-spinner {\n",
              "    border: 2px solid var(--fill-color);\n",
              "    border-color: transparent;\n",
              "    border-bottom-color: var(--fill-color);\n",
              "    animation:\n",
              "      spin 1s steps(1) infinite;\n",
              "  }\n",
              "\n",
              "  @keyframes spin {\n",
              "    0% {\n",
              "      border-color: transparent;\n",
              "      border-bottom-color: var(--fill-color);\n",
              "      border-left-color: var(--fill-color);\n",
              "    }\n",
              "    20% {\n",
              "      border-color: transparent;\n",
              "      border-left-color: var(--fill-color);\n",
              "      border-top-color: var(--fill-color);\n",
              "    }\n",
              "    30% {\n",
              "      border-color: transparent;\n",
              "      border-left-color: var(--fill-color);\n",
              "      border-top-color: var(--fill-color);\n",
              "      border-right-color: var(--fill-color);\n",
              "    }\n",
              "    40% {\n",
              "      border-color: transparent;\n",
              "      border-right-color: var(--fill-color);\n",
              "      border-top-color: var(--fill-color);\n",
              "    }\n",
              "    60% {\n",
              "      border-color: transparent;\n",
              "      border-right-color: var(--fill-color);\n",
              "    }\n",
              "    80% {\n",
              "      border-color: transparent;\n",
              "      border-right-color: var(--fill-color);\n",
              "      border-bottom-color: var(--fill-color);\n",
              "    }\n",
              "    90% {\n",
              "      border-color: transparent;\n",
              "      border-bottom-color: var(--fill-color);\n",
              "    }\n",
              "  }\n",
              "</style>\n",
              "\n",
              "  <script>\n",
              "    async function quickchart(key) {\n",
              "      const quickchartButtonEl =\n",
              "        document.querySelector('#' + key + ' button');\n",
              "      quickchartButtonEl.disabled = true;  // To prevent multiple clicks.\n",
              "      quickchartButtonEl.classList.add('colab-df-spinner');\n",
              "      try {\n",
              "        const charts = await google.colab.kernel.invokeFunction(\n",
              "            'suggestCharts', [key], {});\n",
              "      } catch (error) {\n",
              "        console.error('Error during call to suggestCharts:', error);\n",
              "      }\n",
              "      quickchartButtonEl.classList.remove('colab-df-spinner');\n",
              "      quickchartButtonEl.classList.add('colab-df-quickchart-complete');\n",
              "    }\n",
              "    (() => {\n",
              "      let quickchartButtonEl =\n",
              "        document.querySelector('#df-37b52e0b-27f0-4db7-880d-3b9a305d851d button');\n",
              "      quickchartButtonEl.style.display =\n",
              "        google.colab.kernel.accessAllowed ? 'block' : 'none';\n",
              "    })();\n",
              "  </script>\n",
              "</div>\n",
              "    </div>\n",
              "  </div>\n"
            ]
          },
          "metadata": {},
          "execution_count": 10
        }
      ],
      "source": [
        "politifact_fake_df.head()"
      ]
    },
    {
      "cell_type": "code",
      "execution_count": 11,
      "metadata": {
        "colab": {
          "base_uri": "https://localhost:8080/",
          "height": 206
        },
        "id": "K5J_meRcQ6jY",
        "outputId": "5a5f18a9-5721-43ad-917b-71ddb08597fc"
      },
      "outputs": [
        {
          "output_type": "execute_result",
          "data": {
            "text/plain": [
              "                id                                           news_url  \\\n",
              "0  politifact14984                          http://www.nfib-sbet.org/   \n",
              "1  politifact12944  http://www.cq.com/doc/newsmakertranscripts-494...   \n",
              "2    politifact333  https://web.archive.org/web/20080204072132/htt...   \n",
              "3   politifact4358  https://web.archive.org/web/20110811143753/htt...   \n",
              "4    politifact779  https://web.archive.org/web/20070820164107/htt...   \n",
              "\n",
              "                                               title  \\\n",
              "0  [n, n, l, f, e, e, r, n, f, i, n, e, p, e, n, ...   \n",
              "1            [c, e, n, n, f, e, e, v, l, l, e, n, c]   \n",
              "2  [r, n, e, k, e, p, c, h, h, p, n, g, c, l, e, ...   \n",
              "3  [d, e, c, r, c, l, e, e, r, s, h, u, e, d, e, ...   \n",
              "4  [b, u, g, e, f, h, e, u, n, e, s, e, g, v, e, ...   \n",
              "\n",
              "                                           tweet_ids  \n",
              "0  967132259869487105\\t967164368768196609\\t967215...  \n",
              "1  942953459\\t8980098198\\t16253717352\\t1668513250...  \n",
              "2                                                NaN  \n",
              "3                                                NaN  \n",
              "4  89804710374154240\\t91270460595109888\\t96039619...  "
            ],
            "text/html": [
              "\n",
              "  <div id=\"df-a8fc7e6a-e8ea-4552-9b14-a291f61e3679\" class=\"colab-df-container\">\n",
              "    <div>\n",
              "<style scoped>\n",
              "    .dataframe tbody tr th:only-of-type {\n",
              "        vertical-align: middle;\n",
              "    }\n",
              "\n",
              "    .dataframe tbody tr th {\n",
              "        vertical-align: top;\n",
              "    }\n",
              "\n",
              "    .dataframe thead th {\n",
              "        text-align: right;\n",
              "    }\n",
              "</style>\n",
              "<table border=\"1\" class=\"dataframe\">\n",
              "  <thead>\n",
              "    <tr style=\"text-align: right;\">\n",
              "      <th></th>\n",
              "      <th>id</th>\n",
              "      <th>news_url</th>\n",
              "      <th>title</th>\n",
              "      <th>tweet_ids</th>\n",
              "    </tr>\n",
              "  </thead>\n",
              "  <tbody>\n",
              "    <tr>\n",
              "      <th>0</th>\n",
              "      <td>politifact14984</td>\n",
              "      <td>http://www.nfib-sbet.org/</td>\n",
              "      <td>[n, n, l, f, e, e, r, n, f, i, n, e, p, e, n, ...</td>\n",
              "      <td>967132259869487105\\t967164368768196609\\t967215...</td>\n",
              "    </tr>\n",
              "    <tr>\n",
              "      <th>1</th>\n",
              "      <td>politifact12944</td>\n",
              "      <td>http://www.cq.com/doc/newsmakertranscripts-494...</td>\n",
              "      <td>[c, e, n, n, f, e, e, v, l, l, e, n, c]</td>\n",
              "      <td>942953459\\t8980098198\\t16253717352\\t1668513250...</td>\n",
              "    </tr>\n",
              "    <tr>\n",
              "      <th>2</th>\n",
              "      <td>politifact333</td>\n",
              "      <td>https://web.archive.org/web/20080204072132/htt...</td>\n",
              "      <td>[r, n, e, k, e, p, c, h, h, p, n, g, c, l, e, ...</td>\n",
              "      <td>NaN</td>\n",
              "    </tr>\n",
              "    <tr>\n",
              "      <th>3</th>\n",
              "      <td>politifact4358</td>\n",
              "      <td>https://web.archive.org/web/20110811143753/htt...</td>\n",
              "      <td>[d, e, c, r, c, l, e, e, r, s, h, u, e, d, e, ...</td>\n",
              "      <td>NaN</td>\n",
              "    </tr>\n",
              "    <tr>\n",
              "      <th>4</th>\n",
              "      <td>politifact779</td>\n",
              "      <td>https://web.archive.org/web/20070820164107/htt...</td>\n",
              "      <td>[b, u, g, e, f, h, e, u, n, e, s, e, g, v, e, ...</td>\n",
              "      <td>89804710374154240\\t91270460595109888\\t96039619...</td>\n",
              "    </tr>\n",
              "  </tbody>\n",
              "</table>\n",
              "</div>\n",
              "    <div class=\"colab-df-buttons\">\n",
              "\n",
              "  <div class=\"colab-df-container\">\n",
              "    <button class=\"colab-df-convert\" onclick=\"convertToInteractive('df-a8fc7e6a-e8ea-4552-9b14-a291f61e3679')\"\n",
              "            title=\"Convert this dataframe to an interactive table.\"\n",
              "            style=\"display:none;\">\n",
              "\n",
              "  <svg xmlns=\"http://www.w3.org/2000/svg\" height=\"24px\" viewBox=\"0 -960 960 960\">\n",
              "    <path d=\"M120-120v-720h720v720H120Zm60-500h600v-160H180v160Zm220 220h160v-160H400v160Zm0 220h160v-160H400v160ZM180-400h160v-160H180v160Zm440 0h160v-160H620v160ZM180-180h160v-160H180v160Zm440 0h160v-160H620v160Z\"/>\n",
              "  </svg>\n",
              "    </button>\n",
              "\n",
              "  <style>\n",
              "    .colab-df-container {\n",
              "      display:flex;\n",
              "      gap: 12px;\n",
              "    }\n",
              "\n",
              "    .colab-df-convert {\n",
              "      background-color: #E8F0FE;\n",
              "      border: none;\n",
              "      border-radius: 50%;\n",
              "      cursor: pointer;\n",
              "      display: none;\n",
              "      fill: #1967D2;\n",
              "      height: 32px;\n",
              "      padding: 0 0 0 0;\n",
              "      width: 32px;\n",
              "    }\n",
              "\n",
              "    .colab-df-convert:hover {\n",
              "      background-color: #E2EBFA;\n",
              "      box-shadow: 0px 1px 2px rgba(60, 64, 67, 0.3), 0px 1px 3px 1px rgba(60, 64, 67, 0.15);\n",
              "      fill: #174EA6;\n",
              "    }\n",
              "\n",
              "    .colab-df-buttons div {\n",
              "      margin-bottom: 4px;\n",
              "    }\n",
              "\n",
              "    [theme=dark] .colab-df-convert {\n",
              "      background-color: #3B4455;\n",
              "      fill: #D2E3FC;\n",
              "    }\n",
              "\n",
              "    [theme=dark] .colab-df-convert:hover {\n",
              "      background-color: #434B5C;\n",
              "      box-shadow: 0px 1px 3px 1px rgba(0, 0, 0, 0.15);\n",
              "      filter: drop-shadow(0px 1px 2px rgba(0, 0, 0, 0.3));\n",
              "      fill: #FFFFFF;\n",
              "    }\n",
              "  </style>\n",
              "\n",
              "    <script>\n",
              "      const buttonEl =\n",
              "        document.querySelector('#df-a8fc7e6a-e8ea-4552-9b14-a291f61e3679 button.colab-df-convert');\n",
              "      buttonEl.style.display =\n",
              "        google.colab.kernel.accessAllowed ? 'block' : 'none';\n",
              "\n",
              "      async function convertToInteractive(key) {\n",
              "        const element = document.querySelector('#df-a8fc7e6a-e8ea-4552-9b14-a291f61e3679');\n",
              "        const dataTable =\n",
              "          await google.colab.kernel.invokeFunction('convertToInteractive',\n",
              "                                                    [key], {});\n",
              "        if (!dataTable) return;\n",
              "\n",
              "        const docLinkHtml = 'Like what you see? Visit the ' +\n",
              "          '<a target=\"_blank\" href=https://colab.research.google.com/notebooks/data_table.ipynb>data table notebook</a>'\n",
              "          + ' to learn more about interactive tables.';\n",
              "        element.innerHTML = '';\n",
              "        dataTable['output_type'] = 'display_data';\n",
              "        await google.colab.output.renderOutput(dataTable, element);\n",
              "        const docLink = document.createElement('div');\n",
              "        docLink.innerHTML = docLinkHtml;\n",
              "        element.appendChild(docLink);\n",
              "      }\n",
              "    </script>\n",
              "  </div>\n",
              "\n",
              "\n",
              "<div id=\"df-64b0b5d1-21b9-4a5f-bcd4-4852dad6dba3\">\n",
              "  <button class=\"colab-df-quickchart\" onclick=\"quickchart('df-64b0b5d1-21b9-4a5f-bcd4-4852dad6dba3')\"\n",
              "            title=\"Suggest charts.\"\n",
              "            style=\"display:none;\">\n",
              "\n",
              "<svg xmlns=\"http://www.w3.org/2000/svg\" height=\"24px\"viewBox=\"0 0 24 24\"\n",
              "     width=\"24px\">\n",
              "    <g>\n",
              "        <path d=\"M19 3H5c-1.1 0-2 .9-2 2v14c0 1.1.9 2 2 2h14c1.1 0 2-.9 2-2V5c0-1.1-.9-2-2-2zM9 17H7v-7h2v7zm4 0h-2V7h2v10zm4 0h-2v-4h2v4z\"/>\n",
              "    </g>\n",
              "</svg>\n",
              "  </button>\n",
              "\n",
              "<style>\n",
              "  .colab-df-quickchart {\n",
              "      --bg-color: #E8F0FE;\n",
              "      --fill-color: #1967D2;\n",
              "      --hover-bg-color: #E2EBFA;\n",
              "      --hover-fill-color: #174EA6;\n",
              "      --disabled-fill-color: #AAA;\n",
              "      --disabled-bg-color: #DDD;\n",
              "  }\n",
              "\n",
              "  [theme=dark] .colab-df-quickchart {\n",
              "      --bg-color: #3B4455;\n",
              "      --fill-color: #D2E3FC;\n",
              "      --hover-bg-color: #434B5C;\n",
              "      --hover-fill-color: #FFFFFF;\n",
              "      --disabled-bg-color: #3B4455;\n",
              "      --disabled-fill-color: #666;\n",
              "  }\n",
              "\n",
              "  .colab-df-quickchart {\n",
              "    background-color: var(--bg-color);\n",
              "    border: none;\n",
              "    border-radius: 50%;\n",
              "    cursor: pointer;\n",
              "    display: none;\n",
              "    fill: var(--fill-color);\n",
              "    height: 32px;\n",
              "    padding: 0;\n",
              "    width: 32px;\n",
              "  }\n",
              "\n",
              "  .colab-df-quickchart:hover {\n",
              "    background-color: var(--hover-bg-color);\n",
              "    box-shadow: 0 1px 2px rgba(60, 64, 67, 0.3), 0 1px 3px 1px rgba(60, 64, 67, 0.15);\n",
              "    fill: var(--button-hover-fill-color);\n",
              "  }\n",
              "\n",
              "  .colab-df-quickchart-complete:disabled,\n",
              "  .colab-df-quickchart-complete:disabled:hover {\n",
              "    background-color: var(--disabled-bg-color);\n",
              "    fill: var(--disabled-fill-color);\n",
              "    box-shadow: none;\n",
              "  }\n",
              "\n",
              "  .colab-df-spinner {\n",
              "    border: 2px solid var(--fill-color);\n",
              "    border-color: transparent;\n",
              "    border-bottom-color: var(--fill-color);\n",
              "    animation:\n",
              "      spin 1s steps(1) infinite;\n",
              "  }\n",
              "\n",
              "  @keyframes spin {\n",
              "    0% {\n",
              "      border-color: transparent;\n",
              "      border-bottom-color: var(--fill-color);\n",
              "      border-left-color: var(--fill-color);\n",
              "    }\n",
              "    20% {\n",
              "      border-color: transparent;\n",
              "      border-left-color: var(--fill-color);\n",
              "      border-top-color: var(--fill-color);\n",
              "    }\n",
              "    30% {\n",
              "      border-color: transparent;\n",
              "      border-left-color: var(--fill-color);\n",
              "      border-top-color: var(--fill-color);\n",
              "      border-right-color: var(--fill-color);\n",
              "    }\n",
              "    40% {\n",
              "      border-color: transparent;\n",
              "      border-right-color: var(--fill-color);\n",
              "      border-top-color: var(--fill-color);\n",
              "    }\n",
              "    60% {\n",
              "      border-color: transparent;\n",
              "      border-right-color: var(--fill-color);\n",
              "    }\n",
              "    80% {\n",
              "      border-color: transparent;\n",
              "      border-right-color: var(--fill-color);\n",
              "      border-bottom-color: var(--fill-color);\n",
              "    }\n",
              "    90% {\n",
              "      border-color: transparent;\n",
              "      border-bottom-color: var(--fill-color);\n",
              "    }\n",
              "  }\n",
              "</style>\n",
              "\n",
              "  <script>\n",
              "    async function quickchart(key) {\n",
              "      const quickchartButtonEl =\n",
              "        document.querySelector('#' + key + ' button');\n",
              "      quickchartButtonEl.disabled = true;  // To prevent multiple clicks.\n",
              "      quickchartButtonEl.classList.add('colab-df-spinner');\n",
              "      try {\n",
              "        const charts = await google.colab.kernel.invokeFunction(\n",
              "            'suggestCharts', [key], {});\n",
              "      } catch (error) {\n",
              "        console.error('Error during call to suggestCharts:', error);\n",
              "      }\n",
              "      quickchartButtonEl.classList.remove('colab-df-spinner');\n",
              "      quickchartButtonEl.classList.add('colab-df-quickchart-complete');\n",
              "    }\n",
              "    (() => {\n",
              "      let quickchartButtonEl =\n",
              "        document.querySelector('#df-64b0b5d1-21b9-4a5f-bcd4-4852dad6dba3 button');\n",
              "      quickchartButtonEl.style.display =\n",
              "        google.colab.kernel.accessAllowed ? 'block' : 'none';\n",
              "    })();\n",
              "  </script>\n",
              "</div>\n",
              "    </div>\n",
              "  </div>\n"
            ]
          },
          "metadata": {},
          "execution_count": 11
        }
      ],
      "source": [
        "politifact_real_df.head()"
      ]
    },
    {
      "cell_type": "code",
      "execution_count": 13,
      "metadata": {
        "id": "jb4ghFAKQ6jZ"
      },
      "outputs": [],
      "source": [
        "import pandas as pd\n",
        "import networkx as nx"
      ]
    },
    {
      "cell_type": "markdown",
      "metadata": {
        "id": "K2NvrK6JQ6jZ"
      },
      "source": [
        "## Create a graph for the fake dataset"
      ]
    },
    {
      "cell_type": "code",
      "execution_count": 14,
      "metadata": {
        "id": "3X9mzPJmQ6jZ"
      },
      "outputs": [],
      "source": [
        "# Create an empty directed graph for fake news\n",
        "G_fake = nx.DiGraph()"
      ]
    },
    {
      "cell_type": "code",
      "execution_count": 15,
      "metadata": {
        "id": "DPfycGaUQ6jZ"
      },
      "outputs": [],
      "source": [
        "# Iterate through the fake news dataset and add nodes (tweets) to the graph\n",
        "for index, row in politifact_fake_df.iterrows():\n",
        "    tweet_ids = row['tweet_ids'].split('\\t')\n",
        "\n",
        "    for tweet_id in tweet_ids:\n",
        "        G_fake.add_node(tweet_id)\n",
        "\n",
        "# Define and add edges to the fake news graph based on the 'id' column as the original tweet ID\n",
        "for index, row in politifact_fake_df.iterrows():\n",
        "    tweet_ids = row['tweet_ids'].split('\\t')\n",
        "    original_tweet_id = row['id']\n",
        "\n",
        "    for tweet_id in tweet_ids:\n",
        "        if original_tweet_id:\n",
        "            G_fake.add_edge(tweet_id, original_tweet_id)"
      ]
    },
    {
      "cell_type": "code",
      "execution_count": 16,
      "metadata": {
        "colab": {
          "base_uri": "https://localhost:8080/"
        },
        "id": "Kzwl5AdJQ6jZ",
        "outputId": "8cc34a4a-1393-4851-fcb3-a0e78631e5d5"
      },
      "outputs": [
        {
          "output_type": "stream",
          "name": "stdout",
          "text": [
            "Number of nodes: 104818\n",
            "Number of edges: 104849\n",
            "Is directed graph: True\n"
          ]
        }
      ],
      "source": [
        "print(\"Number of nodes:\", G_fake.number_of_nodes())\n",
        "print(\"Number of edges:\", G_fake.number_of_edges())\n",
        "print(\"Is directed graph:\", nx.is_directed(G_fake))"
      ]
    },
    {
      "cell_type": "code",
      "execution_count": 17,
      "metadata": {
        "colab": {
          "base_uri": "https://localhost:8080/"
        },
        "id": "x0XgQcqvQ6jZ",
        "outputId": "8d5c5c77-efba-48ad-cd2a-dbfcbcf21f88"
      },
      "outputs": [
        {
          "output_type": "stream",
          "name": "stdout",
          "text": [
            "Node with the highest degree: politifact954\n",
            "Highest degree: 12741\n"
          ]
        }
      ],
      "source": [
        "# Calculate the degrees of all nodes in the graph\n",
        "degrees = dict(G_fake.degree())\n",
        "\n",
        "# Find the node with the highest degree\n",
        "node_with_highest_degree = max(degrees, key=degrees.get)\n",
        "\n",
        "# Get the degree value of the node with the highest degree\n",
        "highest_degree = degrees[node_with_highest_degree]\n",
        "\n",
        "print(\"Node with the highest degree:\", node_with_highest_degree)\n",
        "print(\"Highest degree:\", highest_degree)"
      ]
    },
    {
      "cell_type": "code",
      "execution_count": 18,
      "metadata": {
        "colab": {
          "base_uri": "https://localhost:8080/"
        },
        "id": "7HVs_Dw5Q6jZ",
        "outputId": "2ef58619-27d6-4546-9a52-d4bb1bfbf0af"
      },
      "outputs": [
        {
          "output_type": "stream",
          "name": "stdout",
          "text": [
            "Total number of degrees in the graph: 209698\n"
          ]
        }
      ],
      "source": [
        "# Assuming you have a NetworkX graph named G_fake\n",
        "degrees = [degree for node, degree in G_fake.degree()]\n",
        "\n",
        "# Calculate the total number of degrees\n",
        "total_degrees = sum(degrees)\n",
        "\n",
        "# Print the total number of degrees\n",
        "print(\"Total number of degrees in the graph:\", total_degrees)"
      ]
    },
    {
      "cell_type": "markdown",
      "metadata": {
        "id": "G2bu-tR3Q6ja"
      },
      "source": [
        "## Create a graph for the real dataset"
      ]
    },
    {
      "cell_type": "code",
      "execution_count": 19,
      "metadata": {
        "id": "H-Hl3k6uQ6ja"
      },
      "outputs": [],
      "source": [
        "# Create an empty directed graph for fake news\n",
        "G_real = nx.DiGraph()"
      ]
    },
    {
      "cell_type": "code",
      "execution_count": 20,
      "metadata": {
        "id": "IPttuRnOQ6ja"
      },
      "outputs": [],
      "source": [
        "# Iterate through the real news dataset and add nodes (tweets) to the graph\n",
        "for index, row in politifact_real_df.iterrows():\n",
        "    tweet_ids = str(row['tweet_ids']).split('\\t')\n",
        "\n",
        "    for tweet_id in tweet_ids:\n",
        "        G_real.add_node(tweet_id)\n",
        "\n",
        "# Define and add edges to the real news graph based on the 'id' column as the original tweet ID\n",
        "for index, row in politifact_real_df.iterrows():\n",
        "    tweet_ids = str(row['tweet_ids']).split('\\t')\n",
        "    original_tweet_id = str(row['id'])\n",
        "\n",
        "    for tweet_id in tweet_ids:\n",
        "        if original_tweet_id:\n",
        "            G_real.add_edge(tweet_id, original_tweet_id)"
      ]
    },
    {
      "cell_type": "code",
      "execution_count": 21,
      "metadata": {
        "colab": {
          "base_uri": "https://localhost:8080/"
        },
        "id": "g9iCVQtjQ6ja",
        "outputId": "e348327c-62e6-4817-8858-7fd3ffc82879"
      },
      "outputs": [
        {
          "output_type": "stream",
          "name": "stdout",
          "text": [
            "Number of nodes: 107209\n",
            "Number of edges: 107230\n",
            "Is directed graph: True\n"
          ]
        }
      ],
      "source": [
        "print(\"Number of nodes:\", G_real.number_of_nodes())\n",
        "print(\"Number of edges:\", G_real.number_of_edges())\n",
        "print(\"Is directed graph:\", nx.is_directed(G_real))"
      ]
    },
    {
      "cell_type": "code",
      "execution_count": 22,
      "metadata": {
        "colab": {
          "base_uri": "https://localhost:8080/"
        },
        "id": "k-1ZgVCOQ6ja",
        "outputId": "ea7f2e08-19ec-4f82-bb30-9b13620c5dc1"
      },
      "outputs": [
        {
          "output_type": "stream",
          "name": "stdout",
          "text": [
            "Node with the highest degree: politifact954\n",
            "Highest degree: 12741\n"
          ]
        }
      ],
      "source": [
        "# Calculate the degrees of all nodes in the graph\n",
        "degrees = dict(G_real.degree())\n",
        "\n",
        "# Find the node with the highest degree\n",
        "node_with_highest_degree = max(degrees, key=degrees.get)\n",
        "\n",
        "# Get the degree value of the node with the highest degree\n",
        "highest_degree = degrees[node_with_highest_degree]\n",
        "\n",
        "print(\"Node with the highest degree:\", node_with_highest_degree)\n",
        "print(\"Highest degree:\", highest_degree)"
      ]
    },
    {
      "cell_type": "code",
      "execution_count": 23,
      "metadata": {
        "colab": {
          "base_uri": "https://localhost:8080/"
        },
        "id": "Wt4yw_E9Q6ja",
        "outputId": "8001db22-4e60-49d4-c842-a9ea6cae136e"
      },
      "outputs": [
        {
          "output_type": "stream",
          "name": "stdout",
          "text": [
            "Total number of degrees in the graph: 214460\n"
          ]
        }
      ],
      "source": [
        "\n",
        "# Assuming you have a NetworkX graph named G_fake\n",
        "degrees = [degree for node, degree in G_real.degree()]\n",
        "\n",
        "# Calculate the total number of degrees\n",
        "total_degrees = sum(degrees)\n",
        "\n",
        "# Print the total number of degrees\n",
        "print(\"Total number of degrees in the graph:\", total_degrees)"
      ]
    },
    {
      "cell_type": "code",
      "execution_count": 24,
      "metadata": {
        "colab": {
          "base_uri": "https://localhost:8080/"
        },
        "id": "BIyH4Cr8Q6ja",
        "outputId": "3f3727e8-568c-4636-f2c2-1d3a4235661a"
      },
      "outputs": [
        {
          "output_type": "stream",
          "name": "stdout",
          "text": [
            "Graph has been exported to fake_news_graph.gexf\n"
          ]
        }
      ],
      "source": [
        "import networkx as nx\n",
        "\n",
        "# Assuming G_fake is your NetworkX graph\n",
        "\n",
        "# Specify the path where you want to save the GEXF file\n",
        "output_path = \"fake_news_graph.gexf\"\n",
        "\n",
        "# Export the graph to GEXF format\n",
        "nx.write_gexf(G_fake, output_path)\n",
        "\n",
        "print(f\"Graph has been exported to {output_path}\")"
      ]
    },
    {
      "cell_type": "code",
      "execution_count": 25,
      "metadata": {
        "colab": {
          "base_uri": "https://localhost:8080/"
        },
        "id": "hUZecs3UQ6ja",
        "outputId": "f92c7940-dc55-4141-d690-0ba51f0b23c3"
      },
      "outputs": [
        {
          "output_type": "stream",
          "name": "stdout",
          "text": [
            "Graph has been exported to real_news_graph.gexf\n"
          ]
        }
      ],
      "source": [
        "# Specify the path where you want to save the GEXF file\n",
        "output_path = \"real_news_graph.gexf\"\n",
        "\n",
        "# Export the graph to GEXF format\n",
        "nx.write_gexf(G_fake, output_path)\n",
        "\n",
        "print(f\"Graph has been exported to {output_path}\")"
      ]
    },
    {
      "cell_type": "code",
      "execution_count": 26,
      "metadata": {
        "id": "iV9AFzQZQ6ja"
      },
      "outputs": [],
      "source": [
        "import networkx as nx\n",
        "import matplotlib.pyplot as plt\n",
        "import random"
      ]
    },
    {
      "cell_type": "code",
      "execution_count": 27,
      "metadata": {
        "colab": {
          "base_uri": "https://localhost:8080/",
          "height": 539
        },
        "id": "9OPnGBnDQ6jb",
        "outputId": "9aee70ea-d2fe-467f-f23b-00effb608d58"
      },
      "outputs": [
        {
          "output_type": "display_data",
          "data": {
            "text/plain": [
              "<Figure size 640x480 with 1 Axes>"
            ],
            "image/png": "[encoded data removed]"
          },
          "metadata": {}
        }
      ],
      "source": [
        "# Set a seed for reproducibility\n",
        "random.seed(42)\n",
        "\n",
        "# Define the number of nodes to sample (50 in this case)\n",
        "num_nodes_to_sample = 50\n",
        "\n",
        "# Convert the graph view into a list of nodes and then sample from it\n",
        "node_list = list(G_fake.nodes())\n",
        "sampled_nodes = random.sample(node_list, num_nodes_to_sample)\n",
        "\n",
        "# Create a subgraph containing only the sampled nodes and their edges\n",
        "subgraph = G_fake.subgraph(sampled_nodes)\n",
        "\n",
        "# Define a layout for the nodes\n",
        "pos = nx.spring_layout(subgraph)\n",
        "\n",
        "# Draw the subgraph using Matplotlib\n",
        "nx.draw(subgraph, pos, with_labels=True, node_size=300, node_color=\"skyblue\", font_size=10, font_color=\"black\",\n",
        "        width=1.5,  # Increase the width of edges\n",
        "        arrows=True)\n",
        "\n",
        "plt.title(\"Sampled Directed Graph Visualization\")\n",
        "plt.show()"
      ]
    },
    {
      "cell_type": "code",
      "execution_count": 28,
      "metadata": {
        "colab": {
          "base_uri": "https://localhost:8080/",
          "height": 539
        },
        "id": "Zrs3jPLVQ6jb",
        "outputId": "c66bdaea-c427-466b-8e29-d29dddc8624a"
      },
      "outputs": [
        {
          "output_type": "display_data",
          "data": {
            "text/plain": [
              "<Figure size 640x480 with 1 Axes>"
            ],
            "image/png": "[encoded data removed]"
          },
          "metadata": {}
        }
      ],
      "source": [
        "# Set a seed for reproducibility\n",
        "random.seed(42)\n",
        "\n",
        "# Define the number of nodes to sample (50 in this case)\n",
        "num_nodes_to_sample = 50\n",
        "\n",
        "# Convert the graph view into a list of nodes and then sample from it\n",
        "node_list = list(G_real.nodes())\n",
        "sampled_nodes = random.sample(node_list, num_nodes_to_sample)\n",
        "\n",
        "# Create a subgraph containing only the sampled nodes and their edges\n",
        "subgraph = G_fake.subgraph(sampled_nodes)\n",
        "\n",
        "# Define a layout for the nodes\n",
        "pos = nx.spring_layout(subgraph)\n",
        "\n",
        "# Draw the subgraph using Matplotlib\n",
        "nx.draw(subgraph, pos, with_labels=True, node_size=300, node_color=\"skyblue\", font_size=10, font_color=\"black\",\n",
        "        width=1.5,  # Increase the width of edges\n",
        "        arrows=True)\n",
        "\n",
        "plt.title(\"Sampled Directed Graph Visualization\")\n",
        "plt.show()\n"
      ]
    },
    {
      "cell_type": "markdown",
      "metadata": {
        "id": "Qp812yPaQ6jb"
      },
      "source": [
        "## Building a GCN for the datasets"
      ]
    },
    {
      "cell_type": "code",
      "execution_count": 29,
      "metadata": {
        "colab": {
          "base_uri": "https://localhost:8080/",
          "height": 889
        },
        "id": "ZO7-8YfoQ6jb",
        "outputId": "3146671d-6310-45e0-93b0-4b413af3e0c2"
      },
      "outputs": [
        {
          "output_type": "stream",
          "name": "stdout",
          "text": [
            "Looking in links: https://pytorch-geometric.com/whl/torch-1.13.1+cu116.html\n",
            "Collecting torch-scatter\n",
            "  Downloading https://data.pyg.org/whl/torch-1.13.0%2Bcu116/torch_scatter-2.1.1%2Bpt113cu116-cp310-cp310-linux_x86_64.whl (9.4 MB)\n",
            "\u001b[2K     \u001b[90m━━━━━━━━━━━━━━━━━━━━━━━━━━━━━━━━━━━━━━━━\u001b[0m \u001b[32m9.4/9.4 MB\u001b[0m \u001b[31m39.8 MB/s\u001b[0m eta \u001b[36m0:00:00\u001b[0m\n",
            "\u001b[?25hInstalling collected packages: torch-scatter\n",
            "Successfully installed torch-scatter-2.1.1+pt113cu116\n",
            "Looking in links: https://pytorch-geometric.com/whl/torch-1.13.1+cu116.html\n",
            "Collecting torch-sparse\n",
            "  Downloading https://data.pyg.org/whl/torch-1.13.0%2Bcu116/torch_sparse-0.6.17%2Bpt113cu116-cp310-cp310-linux_x86_64.whl (4.5 MB)\n",
            "\u001b[2K     \u001b[90m━━━━━━━━━━━━━━━━━━━━━━━━━━━━━━━━━━━━━━━━\u001b[0m \u001b[32m4.5/4.5 MB\u001b[0m \u001b[31m22.0 MB/s\u001b[0m eta \u001b[36m0:00:00\u001b[0m\n",
            "\u001b[?25hRequirement already satisfied: scipy in /usr/local/lib/python3.10/dist-packages (from torch-sparse) (1.11.2)\n",
            "Requirement already satisfied: numpy<1.28.0,>=1.21.6 in /usr/local/lib/python3.10/dist-packages (from scipy->torch-sparse) (1.23.5)\n",
            "Installing collected packages: torch-sparse\n",
            "Successfully installed torch-sparse-0.6.17+pt113cu116\n",
            "Collecting torch-geometric\n",
            "  Downloading torch_geometric-2.3.1.tar.gz (661 kB)\n",
            "\u001b[2K     \u001b[90m━━━━━━━━━━━━━━━━━━━━━━━━━━━━━━━━━━━━━━━\u001b[0m \u001b[32m661.6/661.6 kB\u001b[0m \u001b[31m5.5 MB/s\u001b[0m eta \u001b[36m0:00:00\u001b[0m\n",
            "\u001b[?25h  Installing build dependencies ... \u001b[?25l\u001b[?25hdone\n",
            "  Getting requirements to build wheel ... \u001b[?25l\u001b[?25hdone\n",
            "  Preparing metadata (pyproject.toml) ... \u001b[?25l\u001b[?25hdone\n",
            "Requirement already satisfied: tqdm in /usr/local/lib/python3.10/dist-packages (from torch-geometric) (4.66.1)\n",
            "Requirement already satisfied: numpy in /usr/local/lib/python3.10/dist-packages (from torch-geometric) (1.23.5)\n",
            "Requirement already satisfied: scipy in /usr/local/lib/python3.10/dist-packages (from torch-geometric) (1.11.2)\n",
            "Requirement already satisfied: jinja2 in /usr/local/lib/python3.10/dist-packages (from torch-geometric) (3.1.2)\n",
            "Requirement already satisfied: requests in /usr/local/lib/python3.10/dist-packages (from torch-geometric) (2.31.0)\n",
            "Requirement already satisfied: pyparsing in /usr/local/lib/python3.10/dist-packages (from torch-geometric) (3.1.1)\n",
            "Requirement already satisfied: scikit-learn in /usr/local/lib/python3.10/dist-packages (from torch-geometric) (1.2.2)\n",
            "Requirement already satisfied: psutil>=5.8.0 in /usr/local/lib/python3.10/dist-packages (from torch-geometric) (5.9.5)\n",
            "Requirement already satisfied: MarkupSafe>=2.0 in /usr/local/lib/python3.10/dist-packages (from jinja2->torch-geometric) (2.1.3)\n",
            "Requirement already satisfied: charset-normalizer<4,>=2 in /usr/local/lib/python3.10/dist-packages (from requests->torch-geometric) (3.2.0)\n",
            "Requirement already satisfied: idna<4,>=2.5 in /usr/local/lib/python3.10/dist-packages (from requests->torch-geometric) (3.4)\n",
            "Requirement already satisfied: urllib3<3,>=1.21.1 in /usr/local/lib/python3.10/dist-packages (from requests->torch-geometric) (2.0.4)\n",
            "Requirement already satisfied: certifi>=2017.4.17 in /usr/local/lib/python3.10/dist-packages (from requests->torch-geometric) (2023.7.22)\n",
            "Requirement already satisfied: joblib>=1.1.1 in /usr/local/lib/python3.10/dist-packages (from scikit-learn->torch-geometric) (1.3.2)\n",
            "Requirement already satisfied: threadpoolctl>=2.0.0 in /usr/local/lib/python3.10/dist-packages (from scikit-learn->torch-geometric) (3.2.0)\n",
            "Building wheels for collected packages: torch-geometric\n",
            "  Building wheel for torch-geometric (pyproject.toml) ... \u001b[?25l\u001b[?25hdone\n",
            "  Created wheel for torch-geometric: filename=torch_geometric-2.3.1-py3-none-any.whl size=910454 sha256=b016c982887298a25e05e5a4ff0feed4f4287126a64de05047510146a2f777e4\n",
            "  Stored in directory: /root/.cache/pip/wheels/ac/dc/30/e2874821ff308ee67dcd7a66dbde912411e19e35a1addda028\n",
            "Successfully built torch-geometric\n",
            "Installing collected packages: torch-geometric\n",
            "Successfully installed torch-geometric-2.3.1\n",
            "  Preparing metadata (setup.py) ... \u001b[?25l\u001b[?25hdone\n",
            "  Building wheel for deepsnap (setup.py) ... \u001b[?25l\u001b[?25hdone\n"
          ]
        },
        {
          "output_type": "stream",
          "name": "stderr",
          "text": [
            "/usr/local/lib/python3.10/dist-packages/torch_geometric/typing.py:31: UserWarning: An issue occurred while importing 'torch-scatter'. Disabling its usage. Stacktrace: /usr/local/lib/python3.10/dist-packages/torch_scatter/_scatter_cuda.so: undefined symbol: _ZN2at4_ops6narrow4callERKNS_6TensorElll\n",
            "  warnings.warn(f\"An issue occurred while importing 'torch-scatter'. \"\n",
            "/usr/local/lib/python3.10/dist-packages/torch_geometric/typing.py:42: UserWarning: An issue occurred while importing 'torch-sparse'. Disabling its usage. Stacktrace: /usr/local/lib/python3.10/dist-packages/torch_sparse/_diag_cuda.so: undefined symbol: _ZN3c106detail19maybe_wrap_dim_slowEllb\n",
            "  warnings.warn(f\"An issue occurred while importing 'torch-sparse'. \"\n"
          ]
        },
        {
          "output_type": "execute_result",
          "data": {
            "text/plain": [
              "'2.3.1'"
            ],
            "application/vnd.google.colaboratory.intrinsic+json": {
              "type": "string"
            }
          },
          "metadata": {},
          "execution_count": 29
        }
      ],
      "source": [
        "# Install torch geometric\n",
        "import os\n",
        "if 'IS_GRADESCOPE_ENV' not in os.environ:\n",
        "  %pip install torch-scatter -f https://pytorch-geometric.com/whl/torch-1.13.1+cu116.html\n",
        "  %pip install torch-sparse -f https://pytorch-geometric.com/whl/torch-1.13.1+cu116.html\n",
        "  %pip install torch-geometric\n",
        "  %pip install -q git+https://github.com/snap-stanford/deepsnap.git\n",
        "\n",
        "import torch_geometric\n",
        "torch_geometric.__version__"
      ]
    },
    {
      "cell_type": "code",
      "execution_count": 30,
      "metadata": {
        "id": "3EIR9JChQ6jb"
      },
      "outputs": [],
      "source": [
        "import argparse\n",
        "import os.path as osp\n",
        "import numpy as np\n",
        "from math import ceil\n",
        "import pandas as pd\n",
        "import copy\n",
        "from tqdm import tqdm\n",
        "\n",
        "import torch\n",
        "import torch.nn.functional as F\n",
        "from torch.nn import Linear\n",
        "\n",
        "from torch_geometric.datasets import UPFD\n",
        "from torch_geometric.loader import DataLoader\n",
        "from torch_geometric.nn import GATConv, GCNConv, SAGEConv, global_max_pool, DenseSAGEConv\n",
        "from torch_geometric.transforms import ToUndirected\n",
        "from sklearn.metrics import f1_score, accuracy_score, roc_auc_score\n",
        "from torch_geometric.nn import global_mean_pool as gmp\n",
        "\n",
        "import torch.nn.functional as F\n",
        "from torch_geometric.data import DenseDataLoader\n",
        "import torch_geometric.transforms as T\n",
        "from torch_geometric.nn import DenseSAGEConv, dense_diff_pool\n",
        "from torch.utils.data import random_split"
      ]
    },
    {
      "cell_type": "code",
      "execution_count": 31,
      "metadata": {
        "id": "3K-Zi8T0Q6jb"
      },
      "outputs": [],
      "source": [
        "def load_data(split):\n",
        "  \"\"\"\n",
        "  Load train, validation, and test data from the UPFD dataset in PyG. Concact node\n",
        "  features *profile* and *bert*, which are Twitter user's profile attributes and\n",
        "  historical tweets encoded through BERT respectively.\n",
        "\n",
        "  -------------------------------------\n",
        "  split: 'train', 'val', or 'test' for retrieving the respective portion of UPFD.\n",
        "\n",
        "  -------------------------------------\n",
        "  Return: PyG dataset object.\n",
        "  \"\"\"\n",
        "\n",
        "  data_profile =  UPFD('/tmp/test', \"politifact\", \"profile\", split, ToUndirected())\n",
        "  data_bert =  UPFD('/tmp/test', \"politifact\", \"bert\", split, ToUndirected())\n",
        "  data_profile.data.x = torch.cat((data_profile.data.x, data_bert.data.x),dim =1)\n",
        "\n",
        "  return data_profile"
      ]
    },
    {
      "cell_type": "code",
      "execution_count": 32,
      "metadata": {
        "colab": {
          "base_uri": "https://localhost:8080/"
        },
        "id": "qlaZbL-vQ6jb",
        "outputId": "ae2001e1-62c0-4d7e-c62d-2c56c8433882"
      },
      "outputs": [
        {
          "output_type": "stream",
          "name": "stderr",
          "text": [
            "Downloading https://docs.google.com/uc?export=download&id=1KOmSrlGcC50PjkvRVbyb_WoWHVql06J-&confirm=t\n",
            "Extracting /tmp/test/politifact/raw/uc\n",
            "Processing...\n",
            "Done!\n",
            "Processing...\n",
            "Done!\n",
            "/usr/local/lib/python3.10/dist-packages/torch_geometric/data/in_memory_dataset.py:157: UserWarning: It is not recommended to directly access the internal storage format `data` of an 'InMemoryDataset'. If you are absolutely certain what you are doing, access the internal storage via `InMemoryDataset._data` instead to suppress this warning. Alternatively, you can access stacked individual attributes of every graph via `dataset.{attr_name}`.\n",
            "  warnings.warn(msg)\n"
          ]
        }
      ],
      "source": [
        "# Retrieve data\n",
        "train_data = load_data('train')\n",
        "test_data = load_data('test')\n",
        "val_data = load_data('val')\n",
        "\n",
        "# Prepare data loader for GNN\n",
        "train_loader = DataLoader(train_data, batch_size=128, shuffle=True)\n",
        "val_loader = DataLoader(val_data, batch_size=128, shuffle=False)\n",
        "test_loader = DataLoader(test_data, batch_size=128, shuffle=False)"
      ]
    },
    {
      "cell_type": "code",
      "execution_count": 33,
      "metadata": {
        "colab": {
          "base_uri": "https://localhost:8080/"
        },
        "id": "Z1Aj4nCpQ6jc",
        "outputId": "ffb752ae-4a19-4914-de34-fc87bc4529c5"
      },
      "outputs": [
        {
          "output_type": "stream",
          "name": "stdout",
          "text": [
            "UPFD(62, name=politifact, feature=profile)\n"
          ]
        }
      ],
      "source": [
        "print(train_loader.dataset)"
      ]
    },
    {
      "cell_type": "code",
      "execution_count": 34,
      "metadata": {
        "colab": {
          "base_uri": "https://localhost:8080/"
        },
        "id": "EXk-P9OZQ6jc",
        "outputId": "592d1241-ae4a-418b-8acb-4ef3e8db53cf"
      },
      "outputs": [
        {
          "output_type": "stream",
          "name": "stdout",
          "text": [
            "Values of the node features tensor([[ 0.0000e+00,  0.0000e+00,  2.9157e-03,  ..., -4.1986e-01,\n",
            "          2.4461e-01,  1.0323e+00],\n",
            "        [ 1.0000e+00,  1.0000e+00,  9.4289e-02,  ...,  4.2206e-01,\n",
            "         -1.9412e-01,  2.6846e-01],\n",
            "        [ 0.0000e+00,  0.0000e+00,  1.0817e-05,  ...,  3.7303e-01,\n",
            "         -2.4978e-03,  5.8866e-01],\n",
            "        ...,\n",
            "        [ 0.0000e+00,  1.0000e+00,  3.0198e-05,  ...,  3.6435e-01,\n",
            "         -3.7590e-02,  5.0081e-01],\n",
            "        [ 0.0000e+00,  0.0000e+00,  2.9157e-03,  ...,  4.0440e-01,\n",
            "         -6.1563e-02,  4.9723e-01],\n",
            "        [ 0.0000e+00,  0.0000e+00,  2.9157e-03,  ...,  4.0440e-01,\n",
            "         -6.1563e-02,  4.9723e-01]])\n",
            "Values of the node labels tensor([0])\n"
          ]
        }
      ],
      "source": [
        "# Visualize a sample of the data\n",
        "train_data[0]\n",
        "# Values of the node features\n",
        "print(f\"Values of the node features\",train_data[0].x)\n",
        "# Values of the node\n",
        "print(f\"Values of the node labels\",train_data[0].y)"
      ]
    },
    {
      "cell_type": "code",
      "execution_count": 35,
      "metadata": {
        "colab": {
          "base_uri": "https://localhost:8080/",
          "height": 143
        },
        "id": "vJfsTHOSQ6jc",
        "outputId": "771b0a46-bf60-4a38-9aec-d6d1c835955f"
      },
      "outputs": [
        {
          "output_type": "execute_result",
          "data": {
            "text/plain": [
              "            0                                                  1\n",
              "0           x  [[tensor(0.), tensor(0.), tensor(0.0029), tens...\n",
              "1  edge_index  [[tensor(0), tensor(0), tensor(0), tensor(0), ...\n",
              "2           y                                        [tensor(0)]"
            ],
            "text/html": [
              "\n",
              "  <div id=\"df-2bcfc0db-b1df-4237-9fe7-cbaf214b928c\" class=\"colab-df-container\">\n",
              "    <div>\n",
              "<style scoped>\n",
              "    .dataframe tbody tr th:only-of-type {\n",
              "        vertical-align: middle;\n",
              "    }\n",
              "\n",
              "    .dataframe tbody tr th {\n",
              "        vertical-align: top;\n",
              "    }\n",
              "\n",
              "    .dataframe thead th {\n",
              "        text-align: right;\n",
              "    }\n",
              "</style>\n",
              "<table border=\"1\" class=\"dataframe\">\n",
              "  <thead>\n",
              "    <tr style=\"text-align: right;\">\n",
              "      <th></th>\n",
              "      <th>0</th>\n",
              "      <th>1</th>\n",
              "    </tr>\n",
              "  </thead>\n",
              "  <tbody>\n",
              "    <tr>\n",
              "      <th>0</th>\n",
              "      <td>x</td>\n",
              "      <td>[[tensor(0.), tensor(0.), tensor(0.0029), tens...</td>\n",
              "    </tr>\n",
              "    <tr>\n",
              "      <th>1</th>\n",
              "      <td>edge_index</td>\n",
              "      <td>[[tensor(0), tensor(0), tensor(0), tensor(0), ...</td>\n",
              "    </tr>\n",
              "    <tr>\n",
              "      <th>2</th>\n",
              "      <td>y</td>\n",
              "      <td>[tensor(0)]</td>\n",
              "    </tr>\n",
              "  </tbody>\n",
              "</table>\n",
              "</div>\n",
              "    <div class=\"colab-df-buttons\">\n",
              "\n",
              "  <div class=\"colab-df-container\">\n",
              "    <button class=\"colab-df-convert\" onclick=\"convertToInteractive('df-2bcfc0db-b1df-4237-9fe7-cbaf214b928c')\"\n",
              "            title=\"Convert this dataframe to an interactive table.\"\n",
              "            style=\"display:none;\">\n",
              "\n",
              "  <svg xmlns=\"http://www.w3.org/2000/svg\" height=\"24px\" viewBox=\"0 -960 960 960\">\n",
              "    <path d=\"M120-120v-720h720v720H120Zm60-500h600v-160H180v160Zm220 220h160v-160H400v160Zm0 220h160v-160H400v160ZM180-400h160v-160H180v160Zm440 0h160v-160H620v160ZM180-180h160v-160H180v160Zm440 0h160v-160H620v160Z\"/>\n",
              "  </svg>\n",
              "    </button>\n",
              "\n",
              "  <style>\n",
              "    .colab-df-container {\n",
              "      display:flex;\n",
              "      gap: 12px;\n",
              "    }\n",
              "\n",
              "    .colab-df-convert {\n",
              "      background-color: #E8F0FE;\n",
              "      border: none;\n",
              "      border-radius: 50%;\n",
              "      cursor: pointer;\n",
              "      display: none;\n",
              "      fill: #1967D2;\n",
              "      height: 32px;\n",
              "      padding: 0 0 0 0;\n",
              "      width: 32px;\n",
              "    }\n",
              "\n",
              "    .colab-df-convert:hover {\n",
              "      background-color: #E2EBFA;\n",
              "      box-shadow: 0px 1px 2px rgba(60, 64, 67, 0.3), 0px 1px 3px 1px rgba(60, 64, 67, 0.15);\n",
              "      fill: #174EA6;\n",
              "    }\n",
              "\n",
              "    .colab-df-buttons div {\n",
              "      margin-bottom: 4px;\n",
              "    }\n",
              "\n",
              "    [theme=dark] .colab-df-convert {\n",
              "      background-color: #3B4455;\n",
              "      fill: #D2E3FC;\n",
              "    }\n",
              "\n",
              "    [theme=dark] .colab-df-convert:hover {\n",
              "      background-color: #434B5C;\n",
              "      box-shadow: 0px 1px 3px 1px rgba(0, 0, 0, 0.15);\n",
              "      filter: drop-shadow(0px 1px 2px rgba(0, 0, 0, 0.3));\n",
              "      fill: #FFFFFF;\n",
              "    }\n",
              "  </style>\n",
              "\n",
              "    <script>\n",
              "      const buttonEl =\n",
              "        document.querySelector('#df-2bcfc0db-b1df-4237-9fe7-cbaf214b928c button.colab-df-convert');\n",
              "      buttonEl.style.display =\n",
              "        google.colab.kernel.accessAllowed ? 'block' : 'none';\n",
              "\n",
              "      async function convertToInteractive(key) {\n",
              "        const element = document.querySelector('#df-2bcfc0db-b1df-4237-9fe7-cbaf214b928c');\n",
              "        const dataTable =\n",
              "          await google.colab.kernel.invokeFunction('convertToInteractive',\n",
              "                                                    [key], {});\n",
              "        if (!dataTable) return;\n",
              "\n",
              "        const docLinkHtml = 'Like what you see? Visit the ' +\n",
              "          '<a target=\"_blank\" href=https://colab.research.google.com/notebooks/data_table.ipynb>data table notebook</a>'\n",
              "          + ' to learn more about interactive tables.';\n",
              "        element.innerHTML = '';\n",
              "        dataTable['output_type'] = 'display_data';\n",
              "        await google.colab.output.renderOutput(dataTable, element);\n",
              "        const docLink = document.createElement('div');\n",
              "        docLink.innerHTML = docLinkHtml;\n",
              "        element.appendChild(docLink);\n",
              "      }\n",
              "    </script>\n",
              "  </div>\n",
              "\n",
              "\n",
              "<div id=\"df-352e0b11-10aa-411e-9d99-cfa962db1363\">\n",
              "  <button class=\"colab-df-quickchart\" onclick=\"quickchart('df-352e0b11-10aa-411e-9d99-cfa962db1363')\"\n",
              "            title=\"Suggest charts.\"\n",
              "            style=\"display:none;\">\n",
              "\n",
              "<svg xmlns=\"http://www.w3.org/2000/svg\" height=\"24px\"viewBox=\"0 0 24 24\"\n",
              "     width=\"24px\">\n",
              "    <g>\n",
              "        <path d=\"M19 3H5c-1.1 0-2 .9-2 2v14c0 1.1.9 2 2 2h14c1.1 0 2-.9 2-2V5c0-1.1-.9-2-2-2zM9 17H7v-7h2v7zm4 0h-2V7h2v10zm4 0h-2v-4h2v4z\"/>\n",
              "    </g>\n",
              "</svg>\n",
              "  </button>\n",
              "\n",
              "<style>\n",
              "  .colab-df-quickchart {\n",
              "      --bg-color: #E8F0FE;\n",
              "      --fill-color: #1967D2;\n",
              "      --hover-bg-color: #E2EBFA;\n",
              "      --hover-fill-color: #174EA6;\n",
              "      --disabled-fill-color: #AAA;\n",
              "      --disabled-bg-color: #DDD;\n",
              "  }\n",
              "\n",
              "  [theme=dark] .colab-df-quickchart {\n",
              "      --bg-color: #3B4455;\n",
              "      --fill-color: #D2E3FC;\n",
              "      --hover-bg-color: #434B5C;\n",
              "      --hover-fill-color: #FFFFFF;\n",
              "      --disabled-bg-color: #3B4455;\n",
              "      --disabled-fill-color: #666;\n",
              "  }\n",
              "\n",
              "  .colab-df-quickchart {\n",
              "    background-color: var(--bg-color);\n",
              "    border: none;\n",
              "    border-radius: 50%;\n",
              "    cursor: pointer;\n",
              "    display: none;\n",
              "    fill: var(--fill-color);\n",
              "    height: 32px;\n",
              "    padding: 0;\n",
              "    width: 32px;\n",
              "  }\n",
              "\n",
              "  .colab-df-quickchart:hover {\n",
              "    background-color: var(--hover-bg-color);\n",
              "    box-shadow: 0 1px 2px rgba(60, 64, 67, 0.3), 0 1px 3px 1px rgba(60, 64, 67, 0.15);\n",
              "    fill: var(--button-hover-fill-color);\n",
              "  }\n",
              "\n",
              "  .colab-df-quickchart-complete:disabled,\n",
              "  .colab-df-quickchart-complete:disabled:hover {\n",
              "    background-color: var(--disabled-bg-color);\n",
              "    fill: var(--disabled-fill-color);\n",
              "    box-shadow: none;\n",
              "  }\n",
              "\n",
              "  .colab-df-spinner {\n",
              "    border: 2px solid var(--fill-color);\n",
              "    border-color: transparent;\n",
              "    border-bottom-color: var(--fill-color);\n",
              "    animation:\n",
              "      spin 1s steps(1) infinite;\n",
              "  }\n",
              "\n",
              "  @keyframes spin {\n",
              "    0% {\n",
              "      border-color: transparent;\n",
              "      border-bottom-color: var(--fill-color);\n",
              "      border-left-color: var(--fill-color);\n",
              "    }\n",
              "    20% {\n",
              "      border-color: transparent;\n",
              "      border-left-color: var(--fill-color);\n",
              "      border-top-color: var(--fill-color);\n",
              "    }\n",
              "    30% {\n",
              "      border-color: transparent;\n",
              "      border-left-color: var(--fill-color);\n",
              "      border-top-color: var(--fill-color);\n",
              "      border-right-color: var(--fill-color);\n",
              "    }\n",
              "    40% {\n",
              "      border-color: transparent;\n",
              "      border-right-color: var(--fill-color);\n",
              "      border-top-color: var(--fill-color);\n",
              "    }\n",
              "    60% {\n",
              "      border-color: transparent;\n",
              "      border-right-color: var(--fill-color);\n",
              "    }\n",
              "    80% {\n",
              "      border-color: transparent;\n",
              "      border-right-color: var(--fill-color);\n",
              "      border-bottom-color: var(--fill-color);\n",
              "    }\n",
              "    90% {\n",
              "      border-color: transparent;\n",
              "      border-bottom-color: var(--fill-color);\n",
              "    }\n",
              "  }\n",
              "</style>\n",
              "\n",
              "  <script>\n",
              "    async function quickchart(key) {\n",
              "      const quickchartButtonEl =\n",
              "        document.querySelector('#' + key + ' button');\n",
              "      quickchartButtonEl.disabled = true;  // To prevent multiple clicks.\n",
              "      quickchartButtonEl.classList.add('colab-df-spinner');\n",
              "      try {\n",
              "        const charts = await google.colab.kernel.invokeFunction(\n",
              "            'suggestCharts', [key], {});\n",
              "      } catch (error) {\n",
              "        console.error('Error during call to suggestCharts:', error);\n",
              "      }\n",
              "      quickchartButtonEl.classList.remove('colab-df-spinner');\n",
              "      quickchartButtonEl.classList.add('colab-df-quickchart-complete');\n",
              "    }\n",
              "    (() => {\n",
              "      let quickchartButtonEl =\n",
              "        document.querySelector('#df-352e0b11-10aa-411e-9d99-cfa962db1363 button');\n",
              "      quickchartButtonEl.style.display =\n",
              "        google.colab.kernel.accessAllowed ? 'block' : 'none';\n",
              "    })();\n",
              "  </script>\n",
              "</div>\n",
              "    </div>\n",
              "  </div>\n"
            ]
          },
          "metadata": {},
          "execution_count": 35
        }
      ],
      "source": [
        "# Use pandas to visualize the data\n",
        "pd.DataFrame(train_data[0]).head()"
      ]
    },
    {
      "cell_type": "code",
      "execution_count": 36,
      "metadata": {
        "id": "2U186OUrQ6jc"
      },
      "outputs": [],
      "source": [
        "class GCN(torch.nn.Module):\n",
        "  def __init__(self, args):\n",
        "    \"\"\"\n",
        "    Initialize a simple GCN with specific parameters.\n",
        "\n",
        "    By default, this GCN has 2 convolutional layers and 1 linear layer.\n",
        "    It also has 1 layer of batch normalization between the two conv-layers.\n",
        "\n",
        "    If num_layers is provided by user, then this function initializes\n",
        "    corresponding number of convolutional layers, with batch normalization\n",
        "    in between. Num_layers must be >= 2.\n",
        "\n",
        "    -------------------------------------\n",
        "    self: GCN object\n",
        "    args[\"num_features\"]: dimension of the input\n",
        "    args[\"hidden_dim\"]: dimension of the hidden layer(s)\n",
        "    args[\"num_classes\"]: dimension of the output (i.e. number of classes)\n",
        "    args[\"dropout\"]: percentage of neurons being zeroed, can be None\n",
        "    args[\"num_layers\"]: number of convolutional layers, must be >= 2\n",
        "\n",
        "    \"\"\"\n",
        "\n",
        "    assert args.num_layers >= 2, \"num_layers must be >= 2.\"\n",
        "\n",
        "    super(GCN, self).__init__()\n",
        "\n",
        "    # Initialize parameters\n",
        "    self.num_layers = args.num_layers\n",
        "    self.dropout = args.dropout\n",
        "\n",
        "    # Initialize the first convolutional layer\n",
        "    self.convs = torch.nn.ModuleList([GCNConv(args.num_features, args.hidden_dim)])\n",
        "\n",
        "    # Initialize batch normalization layer\n",
        "    self.bns = torch.nn.ModuleList()\n",
        "\n",
        "    # Initialize batch normalization layer(s) and the rest of the convolutional layer(s)\n",
        "    for _ in range(self.num_layers - 1):\n",
        "\n",
        "      # Initialize the batch normalization layer\n",
        "      self.bns.extend([torch.nn.BatchNorm1d(args.hidden_dim)])\n",
        "\n",
        "      # Initialize the second convolutional layer\n",
        "      self.convs.extend([GCNConv(args.hidden_dim, args.hidden_dim)])\n",
        "\n",
        "    # Initialize the final linear layer\n",
        "    self.lin0 = Linear(args.hidden_dim, args.num_classes)\n",
        "\n",
        "\n",
        "\n",
        "  def reset_parameters(self):\n",
        "    \"\"\"\n",
        "    Reset training parameters for gradient descent.\n",
        "    \"\"\"\n",
        "    for conv in self.convs:\n",
        "        conv.reset_parameters()\n",
        "    for bn in self.bns:\n",
        "        bn.reset_parameters()\n",
        "\n",
        "  def forward(self, data):\n",
        "    \"\"\"\n",
        "    One forward pass with GCN.\n",
        "\n",
        "    -------------------------------------\n",
        "    data: PyG Dataset data object, with properties like x, edge_index, batch, etc.\n",
        "\n",
        "    -------------------------------------\n",
        "    Return: prediction at the end of one epoch.\n",
        "    \"\"\"\n",
        "\n",
        "    # get features and adjacency matrix\n",
        "    # -- the batch propery associate nodes within one graph together, it takes\n",
        "    #    the form of [1,...,1,2,...2,...,n,...,n] with n being the number of\n",
        "    #    independent graphs in the entire dataset\n",
        "    out, edge_index, batch = data.x, data.edge_index, data.batch\n",
        "\n",
        "    # apply one layer of GNN at a time\n",
        "    for i in range(self.num_layers - 1):\n",
        "\n",
        "      # convolutional layer\n",
        "      out = self.convs[i](out, edge_index)\n",
        "\n",
        "      # batch normalization\n",
        "      out = self.bns[i](out)\n",
        "\n",
        "      # non-linear activation with Re-Lu\n",
        "      out = F.relu(out)\n",
        "\n",
        "      # drop out if requested\n",
        "      if self.dropout > 0:\n",
        "        out = F.dropout(out, training=self.training)\n",
        "\n",
        "    # the last convolutional layer\n",
        "    out = self.convs[i+1](out, edge_index)\n",
        "\n",
        "    # apply graph level pooling per batch (each bath is one indenpendent graph)\n",
        "    # -- embeddings of each batch/graph with k nodes (1 news node, k-1 user nodes)\n",
        "    #    are pooled with the mean method to generate a batch/graph level embedding\n",
        "    #    for lebel prediction\n",
        "    out = gmp(out, batch)\n",
        "\n",
        "    df = pd.DataFrame(data=out.detach().numpy())\n",
        "    df.to_csv('embed.csv', sep=' ', header=False, index=False)\n",
        "\n",
        "    # the final linear layer\n",
        "    out = self.lin0(out)\n",
        "\n",
        "    # soft max for final prediction\n",
        "    out = F.log_softmax(out, dim=-1)\n",
        "\n",
        "    return out\n"
      ]
    },
    {
      "cell_type": "code",
      "execution_count": 37,
      "metadata": {
        "id": "q2yPm0v2Q6jc"
      },
      "outputs": [],
      "source": [
        "def forward_for_viz(data):\n",
        "  \"\"\"\n",
        "  Function to output the visualization in Medium post\n",
        "  \"\"\"\n",
        "\n",
        "  out, edge_index, batch = data.x, data.edge_index, data.batch\n",
        "\n",
        "  out = gmp(out, batch)\n",
        "\n",
        "  return out"
      ]
    },
    {
      "cell_type": "code",
      "execution_count": 38,
      "metadata": {
        "id": "zu95EhkJQ6jc"
      },
      "outputs": [],
      "source": [
        "\"\"\"\n",
        "parser add argument (optimizer, loss_fn, eval_metrics defualt accuracy)\n",
        "\"\"\"\n",
        "\n",
        "def train(model, data, optimizer, loss_fn):\n",
        "  \"\"\"\n",
        "  Train the model using given data, optimizer, and loss_fn\n",
        "  --------------------------------------\n",
        "  model: the model we specified\n",
        "  data: train data multiple batches of graphs, therefore needs to loop through each batch of graph\n",
        "        and add loss of each graph results.\n",
        "  \"\"\"\n",
        "  out_loss = 0.0\n",
        "  for i, data in enumerate(data):\n",
        "\n",
        "    optimizer.zero_grad()\n",
        "    data = data.to(args.device)\n",
        "    out = model(data)\n",
        "    y = data.y\n",
        "    loss = loss_fn(out,y)\n",
        "\n",
        "    loss.backward()\n",
        "    optimizer.step()\n",
        "\n",
        "    out_loss += loss.item()\n",
        "\n",
        "  return out_loss"
      ]
    },
    {
      "cell_type": "code",
      "execution_count": 39,
      "metadata": {
        "id": "fZhSMMYkQ6jj"
      },
      "outputs": [],
      "source": [
        "@torch.no_grad()\n",
        "def evaluate(model, loader, eval_metric = 'all'):\n",
        "  \"\"\"\n",
        "  Evaluate performance of the a GCN model based on the eval_metric.\n",
        "  \"\"\"\n",
        "\n",
        "  # Put model in evaluation mode\n",
        "  model.eval()\n",
        "\n",
        "  pred = []\n",
        "  label = []\n",
        "\n",
        "  for data in loader:\n",
        "    pred_y = model(data).argmax(dim=-1, keepdim=True).tolist()\n",
        "    pred.extend(pred_y)\n",
        "    label.extend(data.y)\n",
        "\n",
        "  acc = accuracy_score(label, pred)\n",
        "  f1 = f1_score(label, pred)\n",
        "  auc = roc_auc_score(label, pred)\n",
        "\n",
        "  return acc, f1, auc"
      ]
    },
    {
      "cell_type": "code",
      "execution_count": 40,
      "metadata": {
        "id": "QkZwuvU-Q6jk"
      },
      "outputs": [],
      "source": [
        "parser = argparse.ArgumentParser()\n",
        "\n",
        "parser.add_argument('--seed', type=int, default=777, help='random seed')\n",
        "parser.add_argument('--device', type=str, default='cpu', help='specify cuda devices')\n",
        "\n",
        "# hyper-parameters\n",
        "parser.add_argument('--dataset', type=str, default='gossipcop', help='[politifact, gossipcop]')\n",
        "parser.add_argument('--batch_size', type=int, default=128, help='batch size')\n",
        "parser.add_argument('--lr', type=float, default=0.01, help='learning rate')\n",
        "parser.add_argument('--weight_decay', type=float, default=0.01, help='weight decay')\n",
        "parser.add_argument('--hidden_dim', type=int, default=128, help='hidden size')\n",
        "parser.add_argument('--dropout', type=float, default=0.0, help='dropout ratio')\n",
        "parser.add_argument('--epochs', type=int, default=100, help='maximum number of epochs')\n",
        "parser.add_argument('--concat', type=bool, default=True, help='whether concat news embedding and graph embedding')\n",
        "parser.add_argument('--multi_gpu', type=bool, default=False, help='multi-gpu mode')\n",
        "parser.add_argument('--feature', type=str, default='bert', help='feature type, [profile, spacy, bert, content]')\n",
        "parser.add_argument('--model', type=str, default='gcn', help='model type, [gcn, gat, sage]')\n",
        "parser.add_argument('--eval', type = str, default = 'accuracy', help = 'evaluation type')\n",
        "parser.add_argument('--num_layers', type=str, default = 2, help = 'num of GNN layers')\n",
        "\n",
        "args, _ = parser.parse_known_args()\n",
        "torch.manual_seed(args.seed)\n",
        "if torch.cuda.is_available():\n",
        "\ttorch.cuda.manual_seed(args.seed)\n",
        "\n",
        "args.num_classes = train_data.num_classes\n",
        "args.num_features = train_data.num_features\n",
        "\n",
        "model = GCN(args)\n",
        "model = model.to(args.device)"
      ]
    },
    {
      "cell_type": "code",
      "execution_count": 41,
      "metadata": {
        "colab": {
          "base_uri": "https://localhost:8080/"
        },
        "id": "yxCJJKggQ6jk",
        "outputId": "be5af626-5532-429b-fced-3fbca8c1a801"
      },
      "outputs": [
        {
          "output_type": "stream",
          "name": "stderr",
          "text": [
            "  1%|          | 1/99 [00:00<00:44,  2.18it/s]"
          ]
        },
        {
          "output_type": "stream",
          "name": "stdout",
          "text": [
            "loss_train:0.7377, train_accuracy:0.5806, val_accuracy:0.4194 \n"
          ]
        },
        {
          "output_type": "stream",
          "name": "stderr",
          "text": [
            "\r  2%|▏         | 2/99 [00:00<00:35,  2.73it/s]"
          ]
        },
        {
          "output_type": "stream",
          "name": "stdout",
          "text": [
            "loss_train:2.7296, train_accuracy:0.7419, val_accuracy:0.8065 \n"
          ]
        },
        {
          "output_type": "stream",
          "name": "stderr",
          "text": [
            "\r  3%|▎         | 3/99 [00:01<00:32,  2.98it/s]"
          ]
        },
        {
          "output_type": "stream",
          "name": "stdout",
          "text": [
            "loss_train:0.6723, train_accuracy:0.4194, val_accuracy:0.5806 \n"
          ]
        },
        {
          "output_type": "stream",
          "name": "stderr",
          "text": [
            "\r  4%|▍         | 4/99 [00:01<00:30,  3.16it/s]"
          ]
        },
        {
          "output_type": "stream",
          "name": "stdout",
          "text": [
            "loss_train:0.7577, train_accuracy:0.5806, val_accuracy:0.4194 \n"
          ]
        },
        {
          "output_type": "stream",
          "name": "stderr",
          "text": [
            "\r  5%|▌         | 5/99 [00:01<00:29,  3.22it/s]"
          ]
        },
        {
          "output_type": "stream",
          "name": "stdout",
          "text": [
            "loss_train:0.6781, train_accuracy:0.5806, val_accuracy:0.4194 \n"
          ]
        },
        {
          "output_type": "stream",
          "name": "stderr",
          "text": [
            "\r  6%|▌         | 6/99 [00:01<00:28,  3.25it/s]"
          ]
        },
        {
          "output_type": "stream",
          "name": "stdout",
          "text": [
            "loss_train:0.7401, train_accuracy:0.5806, val_accuracy:0.4194 \n"
          ]
        },
        {
          "output_type": "stream",
          "name": "stderr",
          "text": [
            "\r  7%|▋         | 7/99 [00:02<00:27,  3.31it/s]"
          ]
        },
        {
          "output_type": "stream",
          "name": "stdout",
          "text": [
            "loss_train:0.6846, train_accuracy:0.5806, val_accuracy:0.4194 \n"
          ]
        },
        {
          "output_type": "stream",
          "name": "stderr",
          "text": [
            "\r  8%|▊         | 8/99 [00:02<00:27,  3.32it/s]"
          ]
        },
        {
          "output_type": "stream",
          "name": "stdout",
          "text": [
            "loss_train:0.6814, train_accuracy:0.5161, val_accuracy:0.6452 \n"
          ]
        },
        {
          "output_type": "stream",
          "name": "stderr",
          "text": [
            "\r  9%|▉         | 9/99 [00:02<00:27,  3.28it/s]"
          ]
        },
        {
          "output_type": "stream",
          "name": "stdout",
          "text": [
            "loss_train:0.6902, train_accuracy:0.5806, val_accuracy:0.4194 \n"
          ]
        },
        {
          "output_type": "stream",
          "name": "stderr",
          "text": [
            "\r 10%|█         | 10/99 [00:03<00:26,  3.32it/s]"
          ]
        },
        {
          "output_type": "stream",
          "name": "stdout",
          "text": [
            "loss_train:0.6781, train_accuracy:0.5806, val_accuracy:0.4194 \n"
          ]
        },
        {
          "output_type": "stream",
          "name": "stderr",
          "text": [
            "\r 11%|█         | 11/99 [00:03<00:29,  3.03it/s]"
          ]
        },
        {
          "output_type": "stream",
          "name": "stdout",
          "text": [
            "loss_train:0.6713, train_accuracy:0.5806, val_accuracy:0.4194 \n"
          ]
        },
        {
          "output_type": "stream",
          "name": "stderr",
          "text": [
            "\r 12%|█▏        | 12/99 [00:04<00:34,  2.52it/s]"
          ]
        },
        {
          "output_type": "stream",
          "name": "stdout",
          "text": [
            "loss_train:0.6752, train_accuracy:0.5806, val_accuracy:0.4194 \n"
          ]
        },
        {
          "output_type": "stream",
          "name": "stderr",
          "text": [
            "\r 13%|█▎        | 13/99 [00:04<00:44,  1.95it/s]"
          ]
        },
        {
          "output_type": "stream",
          "name": "stdout",
          "text": [
            "loss_train:0.6661, train_accuracy:0.5806, val_accuracy:0.4194 \n"
          ]
        },
        {
          "output_type": "stream",
          "name": "stderr",
          "text": [
            "\r 14%|█▍        | 14/99 [00:05<00:58,  1.45it/s]"
          ]
        },
        {
          "output_type": "stream",
          "name": "stdout",
          "text": [
            "loss_train:0.6651, train_accuracy:0.5806, val_accuracy:0.4194 \n"
          ]
        },
        {
          "output_type": "stream",
          "name": "stderr",
          "text": [
            "\r 15%|█▌        | 15/99 [00:07<01:09,  1.21it/s]"
          ]
        },
        {
          "output_type": "stream",
          "name": "stdout",
          "text": [
            "loss_train:0.6630, train_accuracy:0.5806, val_accuracy:0.4194 \n"
          ]
        },
        {
          "output_type": "stream",
          "name": "stderr",
          "text": [
            "\r 16%|█▌        | 16/99 [00:08<01:13,  1.13it/s]"
          ]
        },
        {
          "output_type": "stream",
          "name": "stdout",
          "text": [
            "loss_train:0.6562, train_accuracy:0.5806, val_accuracy:0.4194 \n"
          ]
        },
        {
          "output_type": "stream",
          "name": "stderr",
          "text": [
            "\r 17%|█▋        | 17/99 [00:08<01:06,  1.23it/s]"
          ]
        },
        {
          "output_type": "stream",
          "name": "stdout",
          "text": [
            "loss_train:0.6516, train_accuracy:0.5806, val_accuracy:0.4194 \n"
          ]
        },
        {
          "output_type": "stream",
          "name": "stderr",
          "text": [
            "\r 18%|█▊        | 18/99 [00:09<01:01,  1.33it/s]"
          ]
        },
        {
          "output_type": "stream",
          "name": "stdout",
          "text": [
            "loss_train:0.6456, train_accuracy:0.5806, val_accuracy:0.4194 \n"
          ]
        },
        {
          "output_type": "stream",
          "name": "stderr",
          "text": [
            "\r 19%|█▉        | 19/99 [00:09<00:55,  1.45it/s]"
          ]
        },
        {
          "output_type": "stream",
          "name": "stdout",
          "text": [
            "loss_train:0.6361, train_accuracy:0.5968, val_accuracy:0.4516 \n"
          ]
        },
        {
          "output_type": "stream",
          "name": "stderr",
          "text": [
            "\r 20%|██        | 20/99 [00:10<00:50,  1.57it/s]"
          ]
        },
        {
          "output_type": "stream",
          "name": "stdout",
          "text": [
            "loss_train:0.6291, train_accuracy:0.5806, val_accuracy:0.4194 \n"
          ]
        },
        {
          "output_type": "stream",
          "name": "stderr",
          "text": [
            "\r 21%|██        | 21/99 [00:11<00:47,  1.63it/s]"
          ]
        },
        {
          "output_type": "stream",
          "name": "stdout",
          "text": [
            "loss_train:0.6156, train_accuracy:0.5806, val_accuracy:0.4194 \n"
          ]
        },
        {
          "output_type": "stream",
          "name": "stderr",
          "text": [
            "\r 22%|██▏       | 22/99 [00:11<00:45,  1.71it/s]"
          ]
        },
        {
          "output_type": "stream",
          "name": "stdout",
          "text": [
            "loss_train:0.6043, train_accuracy:0.7903, val_accuracy:0.6452 \n"
          ]
        },
        {
          "output_type": "stream",
          "name": "stderr",
          "text": [
            "\r 23%|██▎       | 23/99 [00:12<00:42,  1.80it/s]"
          ]
        },
        {
          "output_type": "stream",
          "name": "stdout",
          "text": [
            "loss_train:0.5865, train_accuracy:0.8548, val_accuracy:0.8065 \n"
          ]
        },
        {
          "output_type": "stream",
          "name": "stderr",
          "text": [
            "\r 24%|██▍       | 24/99 [00:12<00:42,  1.77it/s]"
          ]
        },
        {
          "output_type": "stream",
          "name": "stdout",
          "text": [
            "loss_train:0.5721, train_accuracy:0.5806, val_accuracy:0.4194 \n"
          ]
        },
        {
          "output_type": "stream",
          "name": "stderr",
          "text": [
            "\r 25%|██▌       | 25/99 [00:13<00:42,  1.75it/s]"
          ]
        },
        {
          "output_type": "stream",
          "name": "stdout",
          "text": [
            "loss_train:0.5638, train_accuracy:0.7258, val_accuracy:0.7742 \n"
          ]
        },
        {
          "output_type": "stream",
          "name": "stderr",
          "text": [
            "\r 26%|██▋       | 26/99 [00:13<00:44,  1.65it/s]"
          ]
        },
        {
          "output_type": "stream",
          "name": "stdout",
          "text": [
            "loss_train:0.5609, train_accuracy:0.7903, val_accuracy:0.5806 \n"
          ]
        },
        {
          "output_type": "stream",
          "name": "stderr",
          "text": [
            "\r 27%|██▋       | 27/99 [00:14<00:41,  1.75it/s]"
          ]
        },
        {
          "output_type": "stream",
          "name": "stdout",
          "text": [
            "loss_train:0.5171, train_accuracy:0.8710, val_accuracy:0.7097 \n"
          ]
        },
        {
          "output_type": "stream",
          "name": "stderr",
          "text": [
            "\r 28%|██▊       | 28/99 [00:15<00:42,  1.67it/s]"
          ]
        },
        {
          "output_type": "stream",
          "name": "stdout",
          "text": [
            "loss_train:0.4879, train_accuracy:0.7581, val_accuracy:0.8065 \n"
          ]
        },
        {
          "output_type": "stream",
          "name": "stderr",
          "text": [
            "\r 29%|██▉       | 29/99 [00:15<00:39,  1.76it/s]"
          ]
        },
        {
          "output_type": "stream",
          "name": "stdout",
          "text": [
            "loss_train:0.5004, train_accuracy:0.6290, val_accuracy:0.4516 \n"
          ]
        },
        {
          "output_type": "stream",
          "name": "stderr",
          "text": [
            "\r 30%|███       | 30/99 [00:16<00:38,  1.80it/s]"
          ]
        },
        {
          "output_type": "stream",
          "name": "stdout",
          "text": [
            "loss_train:0.5272, train_accuracy:0.8065, val_accuracy:0.7742 \n"
          ]
        },
        {
          "output_type": "stream",
          "name": "stderr",
          "text": [
            "\r 31%|███▏      | 31/99 [00:16<00:38,  1.76it/s]"
          ]
        },
        {
          "output_type": "stream",
          "name": "stdout",
          "text": [
            "loss_train:0.4443, train_accuracy:0.8226, val_accuracy:0.7742 \n"
          ]
        },
        {
          "output_type": "stream",
          "name": "stderr",
          "text": [
            "\r 32%|███▏      | 32/99 [00:17<00:41,  1.60it/s]"
          ]
        },
        {
          "output_type": "stream",
          "name": "stdout",
          "text": [
            "loss_train:0.4201, train_accuracy:0.6774, val_accuracy:0.4516 \n"
          ]
        },
        {
          "output_type": "stream",
          "name": "stderr",
          "text": [
            "\r 33%|███▎      | 33/99 [00:17<00:39,  1.66it/s]"
          ]
        },
        {
          "output_type": "stream",
          "name": "stdout",
          "text": [
            "loss_train:0.4825, train_accuracy:0.8226, val_accuracy:0.7742 \n"
          ]
        },
        {
          "output_type": "stream",
          "name": "stderr",
          "text": [
            "\r 34%|███▍      | 34/99 [00:18<00:42,  1.51it/s]"
          ]
        },
        {
          "output_type": "stream",
          "name": "stdout",
          "text": [
            "loss_train:0.4255, train_accuracy:0.8548, val_accuracy:0.8065 \n"
          ]
        },
        {
          "output_type": "stream",
          "name": "stderr",
          "text": [
            "\r 35%|███▌      | 35/99 [00:20<00:57,  1.11it/s]"
          ]
        },
        {
          "output_type": "stream",
          "name": "stdout",
          "text": [
            "loss_train:0.3620, train_accuracy:0.7903, val_accuracy:0.4839 \n"
          ]
        },
        {
          "output_type": "stream",
          "name": "stderr",
          "text": [
            "\r 36%|███▋      | 36/99 [00:21<01:05,  1.05s/it]"
          ]
        },
        {
          "output_type": "stream",
          "name": "stdout",
          "text": [
            "loss_train:0.4297, train_accuracy:0.8548, val_accuracy:0.7742 \n"
          ]
        },
        {
          "output_type": "stream",
          "name": "stderr",
          "text": [
            "\r 37%|███▋      | 37/99 [00:22<01:04,  1.04s/it]"
          ]
        },
        {
          "output_type": "stream",
          "name": "stdout",
          "text": [
            "loss_train:0.3736, train_accuracy:0.8710, val_accuracy:0.8065 \n"
          ]
        },
        {
          "output_type": "stream",
          "name": "stderr",
          "text": [
            "\r 38%|███▊      | 38/99 [00:23<00:57,  1.06it/s]"
          ]
        },
        {
          "output_type": "stream",
          "name": "stdout",
          "text": [
            "loss_train:0.3221, train_accuracy:0.8226, val_accuracy:0.6452 \n"
          ]
        },
        {
          "output_type": "stream",
          "name": "stderr",
          "text": [
            "\r 39%|███▉      | 39/99 [00:23<00:49,  1.21it/s]"
          ]
        },
        {
          "output_type": "stream",
          "name": "stdout",
          "text": [
            "loss_train:0.3813, train_accuracy:0.8548, val_accuracy:0.7742 \n"
          ]
        },
        {
          "output_type": "stream",
          "name": "stderr",
          "text": [
            "\r 40%|████      | 40/99 [00:24<00:46,  1.27it/s]"
          ]
        },
        {
          "output_type": "stream",
          "name": "stdout",
          "text": [
            "loss_train:0.3318, train_accuracy:0.9032, val_accuracy:0.8065 \n"
          ]
        },
        {
          "output_type": "stream",
          "name": "stderr",
          "text": [
            "\r 41%|████▏     | 41/99 [00:25<00:40,  1.42it/s]"
          ]
        },
        {
          "output_type": "stream",
          "name": "stdout",
          "text": [
            "loss_train:0.2812, train_accuracy:0.8548, val_accuracy:0.6774 \n"
          ]
        },
        {
          "output_type": "stream",
          "name": "stderr",
          "text": [
            "\r 42%|████▏     | 42/99 [00:25<00:42,  1.33it/s]"
          ]
        },
        {
          "output_type": "stream",
          "name": "stdout",
          "text": [
            "loss_train:0.3298, train_accuracy:0.8548, val_accuracy:0.8065 \n"
          ]
        },
        {
          "output_type": "stream",
          "name": "stderr",
          "text": [
            "\r 43%|████▎     | 43/99 [00:27<01:02,  1.12s/it]"
          ]
        },
        {
          "output_type": "stream",
          "name": "stdout",
          "text": [
            "loss_train:0.3197, train_accuracy:0.9516, val_accuracy:0.8065 \n"
          ]
        },
        {
          "output_type": "stream",
          "name": "stderr",
          "text": [
            "\r 44%|████▍     | 44/99 [00:28<00:54,  1.00it/s]"
          ]
        },
        {
          "output_type": "stream",
          "name": "stdout",
          "text": [
            "loss_train:0.2533, train_accuracy:0.9032, val_accuracy:0.8065 \n"
          ]
        },
        {
          "output_type": "stream",
          "name": "stderr",
          "text": [
            "\r 45%|████▌     | 45/99 [00:29<00:56,  1.04s/it]"
          ]
        },
        {
          "output_type": "stream",
          "name": "stdout",
          "text": [
            "loss_train:0.2539, train_accuracy:0.8710, val_accuracy:0.8065 \n"
          ]
        },
        {
          "output_type": "stream",
          "name": "stderr",
          "text": [
            "\r 46%|████▋     | 46/99 [00:30<00:48,  1.08it/s]"
          ]
        },
        {
          "output_type": "stream",
          "name": "stdout",
          "text": [
            "loss_train:0.2972, train_accuracy:0.8871, val_accuracy:0.6774 \n"
          ]
        },
        {
          "output_type": "stream",
          "name": "stderr",
          "text": [
            "\r 47%|████▋     | 47/99 [00:31<00:47,  1.09it/s]"
          ]
        },
        {
          "output_type": "stream",
          "name": "stdout",
          "text": [
            "loss_train:0.2917, train_accuracy:0.8871, val_accuracy:0.8065 \n"
          ]
        },
        {
          "output_type": "stream",
          "name": "stderr",
          "text": [
            "\r 48%|████▊     | 48/99 [00:32<00:43,  1.18it/s]"
          ]
        },
        {
          "output_type": "stream",
          "name": "stdout",
          "text": [
            "loss_train:0.2235, train_accuracy:0.9194, val_accuracy:0.8065 \n"
          ]
        },
        {
          "output_type": "stream",
          "name": "stderr",
          "text": [
            "\r 49%|████▉     | 49/99 [00:32<00:37,  1.34it/s]"
          ]
        },
        {
          "output_type": "stream",
          "name": "stdout",
          "text": [
            "loss_train:0.2099, train_accuracy:0.9032, val_accuracy:0.6774 \n"
          ]
        },
        {
          "output_type": "stream",
          "name": "stderr",
          "text": [
            "\r 51%|█████     | 50/99 [00:33<00:35,  1.40it/s]"
          ]
        },
        {
          "output_type": "stream",
          "name": "stdout",
          "text": [
            "loss_train:0.2536, train_accuracy:0.8710, val_accuracy:0.8065 \n"
          ]
        },
        {
          "output_type": "stream",
          "name": "stderr",
          "text": [
            "\r 52%|█████▏    | 51/99 [00:33<00:32,  1.46it/s]"
          ]
        },
        {
          "output_type": "stream",
          "name": "stdout",
          "text": [
            "loss_train:0.2698, train_accuracy:0.9032, val_accuracy:0.7097 \n"
          ]
        },
        {
          "output_type": "stream",
          "name": "stderr",
          "text": [
            "\r 53%|█████▎    | 52/99 [00:34<00:33,  1.42it/s]"
          ]
        },
        {
          "output_type": "stream",
          "name": "stdout",
          "text": [
            "loss_train:0.2326, train_accuracy:0.9677, val_accuracy:0.8387 \n"
          ]
        },
        {
          "output_type": "stream",
          "name": "stderr",
          "text": [
            "\r 54%|█████▎    | 53/99 [00:35<00:34,  1.32it/s]"
          ]
        },
        {
          "output_type": "stream",
          "name": "stdout",
          "text": [
            "loss_train:0.1780, train_accuracy:0.9194, val_accuracy:0.8387 \n"
          ]
        },
        {
          "output_type": "stream",
          "name": "stderr",
          "text": [
            "\r 55%|█████▍    | 54/99 [00:35<00:31,  1.44it/s]"
          ]
        },
        {
          "output_type": "stream",
          "name": "stdout",
          "text": [
            "loss_train:0.1859, train_accuracy:0.9032, val_accuracy:0.6774 \n"
          ]
        },
        {
          "output_type": "stream",
          "name": "stderr",
          "text": [
            "\r 56%|█████▌    | 55/99 [00:36<00:27,  1.59it/s]"
          ]
        },
        {
          "output_type": "stream",
          "name": "stdout",
          "text": [
            "loss_train:0.2302, train_accuracy:0.8871, val_accuracy:0.8065 \n"
          ]
        },
        {
          "output_type": "stream",
          "name": "stderr",
          "text": [
            "\r 57%|█████▋    | 56/99 [00:36<00:24,  1.73it/s]"
          ]
        },
        {
          "output_type": "stream",
          "name": "stdout",
          "text": [
            "loss_train:0.2359, train_accuracy:0.9032, val_accuracy:0.7419 \n"
          ]
        },
        {
          "output_type": "stream",
          "name": "stderr",
          "text": [
            "\r 58%|█████▊    | 57/99 [00:37<00:22,  1.89it/s]"
          ]
        },
        {
          "output_type": "stream",
          "name": "stdout",
          "text": [
            "loss_train:0.1969, train_accuracy:0.9839, val_accuracy:0.8387 \n"
          ]
        },
        {
          "output_type": "stream",
          "name": "stderr",
          "text": [
            "\r 59%|█████▊    | 58/99 [00:37<00:19,  2.15it/s]"
          ]
        },
        {
          "output_type": "stream",
          "name": "stdout",
          "text": [
            "loss_train:0.1513, train_accuracy:0.9516, val_accuracy:0.8710 \n"
          ]
        },
        {
          "output_type": "stream",
          "name": "stderr",
          "text": [
            "\r 60%|█████▉    | 59/99 [00:37<00:16,  2.39it/s]"
          ]
        },
        {
          "output_type": "stream",
          "name": "stdout",
          "text": [
            "loss_train:0.1604, train_accuracy:0.9032, val_accuracy:0.7097 \n"
          ]
        },
        {
          "output_type": "stream",
          "name": "stderr",
          "text": [
            "\r 61%|██████    | 60/99 [00:38<00:14,  2.60it/s]"
          ]
        },
        {
          "output_type": "stream",
          "name": "stdout",
          "text": [
            "loss_train:0.1988, train_accuracy:0.9032, val_accuracy:0.8387 \n"
          ]
        },
        {
          "output_type": "stream",
          "name": "stderr",
          "text": [
            "\r 62%|██████▏   | 61/99 [00:38<00:13,  2.77it/s]"
          ]
        },
        {
          "output_type": "stream",
          "name": "stdout",
          "text": [
            "loss_train:0.2063, train_accuracy:0.9032, val_accuracy:0.7419 \n"
          ]
        },
        {
          "output_type": "stream",
          "name": "stderr",
          "text": [
            "\r 63%|██████▎   | 62/99 [00:38<00:12,  2.94it/s]"
          ]
        },
        {
          "output_type": "stream",
          "name": "stdout",
          "text": [
            "loss_train:0.1783, train_accuracy:0.9839, val_accuracy:0.8387 \n"
          ]
        },
        {
          "output_type": "stream",
          "name": "stderr",
          "text": [
            "\r 64%|██████▎   | 63/99 [00:39<00:11,  3.05it/s]"
          ]
        },
        {
          "output_type": "stream",
          "name": "stdout",
          "text": [
            "loss_train:0.1357, train_accuracy:0.9839, val_accuracy:0.8387 \n"
          ]
        },
        {
          "output_type": "stream",
          "name": "stderr",
          "text": [
            "\r 65%|██████▍   | 64/99 [00:39<00:11,  3.09it/s]"
          ]
        },
        {
          "output_type": "stream",
          "name": "stdout",
          "text": [
            "loss_train:0.1342, train_accuracy:0.9355, val_accuracy:0.7419 \n"
          ]
        },
        {
          "output_type": "stream",
          "name": "stderr",
          "text": [
            "\r 66%|██████▌   | 65/99 [00:39<00:10,  3.18it/s]"
          ]
        },
        {
          "output_type": "stream",
          "name": "stdout",
          "text": [
            "loss_train:0.1636, train_accuracy:0.9194, val_accuracy:0.8387 \n"
          ]
        },
        {
          "output_type": "stream",
          "name": "stderr",
          "text": [
            "\r 67%|██████▋   | 66/99 [00:40<00:10,  3.22it/s]"
          ]
        },
        {
          "output_type": "stream",
          "name": "stdout",
          "text": [
            "loss_train:0.1782, train_accuracy:0.9194, val_accuracy:0.7419 \n"
          ]
        },
        {
          "output_type": "stream",
          "name": "stderr",
          "text": [
            "\r 68%|██████▊   | 67/99 [00:40<00:09,  3.28it/s]"
          ]
        },
        {
          "output_type": "stream",
          "name": "stdout",
          "text": [
            "loss_train:0.1688, train_accuracy:0.9516, val_accuracy:0.8710 \n"
          ]
        },
        {
          "output_type": "stream",
          "name": "stderr",
          "text": [
            "\r 69%|██████▊   | 68/99 [00:40<00:09,  3.25it/s]"
          ]
        },
        {
          "output_type": "stream",
          "name": "stdout",
          "text": [
            "loss_train:0.1327, train_accuracy:0.9839, val_accuracy:0.8710 \n"
          ]
        },
        {
          "output_type": "stream",
          "name": "stderr",
          "text": [
            "\r 70%|██████▉   | 69/99 [00:41<00:09,  3.18it/s]"
          ]
        },
        {
          "output_type": "stream",
          "name": "stdout",
          "text": [
            "loss_train:0.1143, train_accuracy:0.9839, val_accuracy:0.8710 \n"
          ]
        },
        {
          "output_type": "stream",
          "name": "stderr",
          "text": [
            "\r 71%|███████   | 70/99 [00:41<00:08,  3.23it/s]"
          ]
        },
        {
          "output_type": "stream",
          "name": "stdout",
          "text": [
            "loss_train:0.1266, train_accuracy:0.9194, val_accuracy:0.8387 \n"
          ]
        },
        {
          "output_type": "stream",
          "name": "stderr",
          "text": [
            "\r 72%|███████▏  | 71/99 [00:41<00:08,  3.29it/s]"
          ]
        },
        {
          "output_type": "stream",
          "name": "stdout",
          "text": [
            "loss_train:0.1455, train_accuracy:0.9516, val_accuracy:0.7419 \n"
          ]
        },
        {
          "output_type": "stream",
          "name": "stderr",
          "text": [
            "\r 73%|███████▎  | 72/99 [00:41<00:08,  3.18it/s]"
          ]
        },
        {
          "output_type": "stream",
          "name": "stdout",
          "text": [
            "loss_train:0.1558, train_accuracy:0.9194, val_accuracy:0.8387 \n"
          ]
        },
        {
          "output_type": "stream",
          "name": "stderr",
          "text": [
            "\r 74%|███████▎  | 73/99 [00:42<00:08,  3.21it/s]"
          ]
        },
        {
          "output_type": "stream",
          "name": "stdout",
          "text": [
            "loss_train:0.1409, train_accuracy:0.9839, val_accuracy:0.8387 \n"
          ]
        },
        {
          "output_type": "stream",
          "name": "stderr",
          "text": [
            "\r 75%|███████▍  | 74/99 [00:42<00:07,  3.22it/s]"
          ]
        },
        {
          "output_type": "stream",
          "name": "stdout",
          "text": [
            "loss_train:0.1193, train_accuracy:0.9839, val_accuracy:0.8710 \n"
          ]
        },
        {
          "output_type": "stream",
          "name": "stderr",
          "text": [
            "\r 76%|███████▌  | 75/99 [00:42<00:07,  3.26it/s]"
          ]
        },
        {
          "output_type": "stream",
          "name": "stdout",
          "text": [
            "loss_train:0.1031, train_accuracy:0.9839, val_accuracy:0.8710 \n"
          ]
        },
        {
          "output_type": "stream",
          "name": "stderr",
          "text": [
            "\r 77%|███████▋  | 76/99 [00:43<00:07,  3.26it/s]"
          ]
        },
        {
          "output_type": "stream",
          "name": "stdout",
          "text": [
            "loss_train:0.1067, train_accuracy:0.9839, val_accuracy:0.8065 \n"
          ]
        },
        {
          "output_type": "stream",
          "name": "stderr",
          "text": [
            "\r 78%|███████▊  | 77/99 [00:43<00:06,  3.23it/s]"
          ]
        },
        {
          "output_type": "stream",
          "name": "stdout",
          "text": [
            "loss_train:0.1216, train_accuracy:0.9194, val_accuracy:0.8387 \n"
          ]
        },
        {
          "output_type": "stream",
          "name": "stderr",
          "text": [
            "\r 79%|███████▉  | 78/99 [00:43<00:06,  3.31it/s]"
          ]
        },
        {
          "output_type": "stream",
          "name": "stdout",
          "text": [
            "loss_train:0.1326, train_accuracy:0.9516, val_accuracy:0.7419 \n"
          ]
        },
        {
          "output_type": "stream",
          "name": "stderr",
          "text": [
            "\r 80%|███████▉  | 79/99 [00:44<00:06,  3.33it/s]"
          ]
        },
        {
          "output_type": "stream",
          "name": "stdout",
          "text": [
            "loss_train:0.1433, train_accuracy:0.9355, val_accuracy:0.8387 \n"
          ]
        },
        {
          "output_type": "stream",
          "name": "stderr",
          "text": [
            "\r 81%|████████  | 80/99 [00:44<00:05,  3.35it/s]"
          ]
        },
        {
          "output_type": "stream",
          "name": "stdout",
          "text": [
            "loss_train:0.1396, train_accuracy:0.9516, val_accuracy:0.7419 \n"
          ]
        },
        {
          "output_type": "stream",
          "name": "stderr",
          "text": [
            "\r 82%|████████▏ | 81/99 [00:44<00:05,  3.37it/s]"
          ]
        },
        {
          "output_type": "stream",
          "name": "stdout",
          "text": [
            "loss_train:0.1353, train_accuracy:0.9516, val_accuracy:0.8710 \n"
          ]
        },
        {
          "output_type": "stream",
          "name": "stderr",
          "text": [
            "\r 83%|████████▎ | 82/99 [00:44<00:05,  3.37it/s]"
          ]
        },
        {
          "output_type": "stream",
          "name": "stdout",
          "text": [
            "loss_train:0.1160, train_accuracy:0.9839, val_accuracy:0.8710 \n"
          ]
        },
        {
          "output_type": "stream",
          "name": "stderr",
          "text": [
            "\r 84%|████████▍ | 83/99 [00:45<00:04,  3.35it/s]"
          ]
        },
        {
          "output_type": "stream",
          "name": "stdout",
          "text": [
            "loss_train:0.0990, train_accuracy:0.9839, val_accuracy:0.8710 \n"
          ]
        },
        {
          "output_type": "stream",
          "name": "stderr",
          "text": [
            "\r 85%|████████▍ | 84/99 [00:45<00:04,  3.31it/s]"
          ]
        },
        {
          "output_type": "stream",
          "name": "stdout",
          "text": [
            "loss_train:0.0899, train_accuracy:0.9839, val_accuracy:0.8710 \n"
          ]
        },
        {
          "output_type": "stream",
          "name": "stderr",
          "text": [
            "\r 86%|████████▌ | 85/99 [00:45<00:04,  3.25it/s]"
          ]
        },
        {
          "output_type": "stream",
          "name": "stdout",
          "text": [
            "loss_train:0.0944, train_accuracy:0.9839, val_accuracy:0.8065 \n"
          ]
        },
        {
          "output_type": "stream",
          "name": "stderr",
          "text": [
            "\r 87%|████████▋ | 86/99 [00:46<00:04,  3.03it/s]"
          ]
        },
        {
          "output_type": "stream",
          "name": "stdout",
          "text": [
            "loss_train:0.1061, train_accuracy:0.9677, val_accuracy:0.8710 \n"
          ]
        },
        {
          "output_type": "stream",
          "name": "stderr",
          "text": [
            "\r 88%|████████▊ | 87/99 [00:46<00:03,  3.08it/s]"
          ]
        },
        {
          "output_type": "stream",
          "name": "stdout",
          "text": [
            "loss_train:0.1150, train_accuracy:0.9516, val_accuracy:0.7097 \n"
          ]
        },
        {
          "output_type": "stream",
          "name": "stderr",
          "text": [
            "\r 89%|████████▉ | 88/99 [00:46<00:03,  3.12it/s]"
          ]
        },
        {
          "output_type": "stream",
          "name": "stdout",
          "text": [
            "loss_train:0.1287, train_accuracy:0.9355, val_accuracy:0.8387 \n"
          ]
        },
        {
          "output_type": "stream",
          "name": "stderr",
          "text": [
            "\r 90%|████████▉ | 89/99 [00:47<00:03,  3.10it/s]"
          ]
        },
        {
          "output_type": "stream",
          "name": "stdout",
          "text": [
            "loss_train:0.1354, train_accuracy:0.9355, val_accuracy:0.6452 \n"
          ]
        },
        {
          "output_type": "stream",
          "name": "stderr",
          "text": [
            "\r 91%|█████████ | 90/99 [00:47<00:03,  2.89it/s]"
          ]
        },
        {
          "output_type": "stream",
          "name": "stdout",
          "text": [
            "loss_train:0.1584, train_accuracy:0.9194, val_accuracy:0.8387 \n"
          ]
        },
        {
          "output_type": "stream",
          "name": "stderr",
          "text": [
            "\r 92%|█████████▏| 91/99 [00:48<00:02,  2.67it/s]"
          ]
        },
        {
          "output_type": "stream",
          "name": "stdout",
          "text": [
            "loss_train:0.1728, train_accuracy:0.8871, val_accuracy:0.6129 \n"
          ]
        },
        {
          "output_type": "stream",
          "name": "stderr",
          "text": [
            "\r 93%|█████████▎| 92/99 [00:48<00:02,  2.47it/s]"
          ]
        },
        {
          "output_type": "stream",
          "name": "stdout",
          "text": [
            "loss_train:0.2189, train_accuracy:0.8710, val_accuracy:0.8387 \n"
          ]
        },
        {
          "output_type": "stream",
          "name": "stderr",
          "text": [
            "\r 94%|█████████▍| 93/99 [00:48<00:02,  2.40it/s]"
          ]
        },
        {
          "output_type": "stream",
          "name": "stdout",
          "text": [
            "loss_train:0.2308, train_accuracy:0.8871, val_accuracy:0.6129 \n"
          ]
        },
        {
          "output_type": "stream",
          "name": "stderr",
          "text": [
            "\r 95%|█████████▍| 94/99 [00:49<00:02,  2.34it/s]"
          ]
        },
        {
          "output_type": "stream",
          "name": "stdout",
          "text": [
            "loss_train:0.2380, train_accuracy:0.9355, val_accuracy:0.8387 \n"
          ]
        },
        {
          "output_type": "stream",
          "name": "stderr",
          "text": [
            "\r 96%|█████████▌| 95/99 [00:49<00:01,  2.32it/s]"
          ]
        },
        {
          "output_type": "stream",
          "name": "stdout",
          "text": [
            "loss_train:0.1306, train_accuracy:0.9839, val_accuracy:0.8710 \n"
          ]
        },
        {
          "output_type": "stream",
          "name": "stderr",
          "text": [
            "\r 97%|█████████▋| 96/99 [00:50<00:01,  2.28it/s]"
          ]
        },
        {
          "output_type": "stream",
          "name": "stdout",
          "text": [
            "loss_train:0.0830, train_accuracy:0.9516, val_accuracy:0.7097 \n"
          ]
        },
        {
          "output_type": "stream",
          "name": "stderr",
          "text": [
            "\r 98%|█████████▊| 97/99 [00:50<00:00,  2.26it/s]"
          ]
        },
        {
          "output_type": "stream",
          "name": "stdout",
          "text": [
            "loss_train:0.1414, train_accuracy:0.9516, val_accuracy:0.8710 \n"
          ]
        },
        {
          "output_type": "stream",
          "name": "stderr",
          "text": [
            "\r 99%|█████████▉| 98/99 [00:51<00:00,  2.44it/s]"
          ]
        },
        {
          "output_type": "stream",
          "name": "stdout",
          "text": [
            "loss_train:0.1151, train_accuracy:0.9839, val_accuracy:0.8710 \n"
          ]
        },
        {
          "output_type": "stream",
          "name": "stderr",
          "text": [
            "100%|██████████| 99/99 [00:51<00:00,  1.93it/s]"
          ]
        },
        {
          "output_type": "stream",
          "name": "stdout",
          "text": [
            "loss_train:0.0783, train_accuracy:0.9677, val_accuracy:0.7742 \n"
          ]
        },
        {
          "output_type": "stream",
          "name": "stderr",
          "text": [
            "\n"
          ]
        },
        {
          "output_type": "stream",
          "name": "stdout",
          "text": [
            "Test results: acc 0.8281, f1 score: 0.8273, auc: 0.8286\n"
          ]
        }
      ],
      "source": [
        "#if __name__ == '__main__':\n",
        "model.reset_parameters()\n",
        "\n",
        "best_model = None\n",
        "best_val_value = 0\n",
        "\n",
        "evaluator = args.eval\n",
        "\n",
        "optimizer = torch.optim.Adam(model.parameters(), lr=args.lr, weight_decay = args.weight_decay)\n",
        "loss_fn = F.nll_loss\n",
        "\n",
        "model.train()\n",
        "for epoch in tqdm(range(1, args.epochs)):\n",
        "  loss = train(model, train_loader, optimizer, loss_fn)\n",
        "  train_eval = evaluate(model, train_loader)\n",
        "  val_eval = evaluate(model, val_loader)\n",
        "  if val_eval[0] > best_val_value:\n",
        "    best_val_value = val_eval[0]\n",
        "    best_model = copy.deepcopy(model)\n",
        "  print(f'loss_train:{loss:.4f}, train_{evaluator}:{train_eval[0]:.4f}, val_{evaluator}:{val_eval[0]:.4f} ')\n",
        "acc, f1, auc = evaluate(best_model, test_loader)\n",
        "print(f'Test results: acc {acc:.4f}, f1 score: {f1:.4f}, auc: {auc:.4f}' )"
      ]
    },
    {
      "cell_type": "code",
      "execution_count": 42,
      "metadata": {
        "id": "3BF8JYBDQ6jk"
      },
      "outputs": [],
      "source": [
        "new_test_loader = test_loader = DataLoader(test_data, batch_size=500, shuffle=False)"
      ]
    },
    {
      "cell_type": "code",
      "execution_count": 43,
      "metadata": {
        "colab": {
          "base_uri": "https://localhost:8080/",
          "height": 1000
        },
        "id": "N_7CEPEjQ6jk",
        "outputId": "c2bf7500-9d12-4683-f488-94636cf24713"
      },
      "outputs": [
        {
          "output_type": "stream",
          "name": "stderr",
          "text": [
            "/usr/local/lib/python3.10/dist-packages/torch_geometric/data/in_memory_dataset.py:157: UserWarning: It is not recommended to directly access the internal storage format `data` of an 'InMemoryDataset'. The data of the dataset is already cached, so any modifications to `data` will not be reflected when accessing its elements. Clearing the cache now by removing all elements in `dataset._data_list`. If you are absolutely certain what you are doing, access the internal storage via `InMemoryDataset._data` instead to suppress this warning. Alternatively, you can access stacked individual attributes of every graph via `dataset.{attr_name}`.\n",
            "  warnings.warn(msg)\n"
          ]
        },
        {
          "output_type": "display_data",
          "data": {
            "text/plain": [
              "<Figure size 600x500 with 1 Axes>"
            ],
            "image/png": "[encoded data removed]"
          },
          "metadata": {}
        },
        {
          "output_type": "display_data",
          "data": {
            "text/plain": [
              "<Figure size 600x500 with 1 Axes>"
            ],
            "image/png": "[encoded data removed]"
          },
          "metadata": {}
        },
        {
          "output_type": "display_data",
          "data": {
            "text/plain": [
              "<Figure size 600x500 with 1 Axes>"
            ],
            "image/png": "[encoded data removed]"
          },
          "metadata": {}
        },
        {
          "output_type": "display_data",
          "data": {
            "text/plain": [
              "<Figure size 600x500 with 1 Axes>"
            ],
            "image/png": "[encoded data removed]"
          },
          "metadata": {}
        }
      ],
      "source": [
        "for data in new_test_loader:\n",
        "  out = forward_for_viz(data)\n",
        "test_y = test_data.data.y\n",
        "test_real_before = out[test_y==1]\n",
        "test_fake_before = out[test_y==0]\n",
        "for data in new_test_loader:\n",
        "  pred = best_model(data)\n",
        "out_after = np.genfromtxt('embed.csv')\n",
        "test_real_after = out_after[test_y==1]\n",
        "test_fake_after = out_after[test_y==0]\n",
        "\n",
        "import matplotlib.pyplot as plt\n",
        "from sklearn.manifold import TSNE\n",
        "from sklearn.decomposition import PCA\n",
        "import seaborn as sns\n",
        "import pandas as pd\n",
        "import numpy as np\n",
        "\n",
        "def plot_tsne(data, label, title):\n",
        "    \"\"\"\n",
        "    Plot the t-SNE visualization of the data.\n",
        "    \"\"\"\n",
        "    tsne = TSNE(n_components=2, random_state=0)\n",
        "    X_2d = tsne.fit_transform(data)\n",
        "    plt.figure(figsize=(6, 5))\n",
        "    plt.scatter(X_2d[:, 0], X_2d[:, 1], c=label, cmap=plt.cm.Spectral)\n",
        "    plt.title(title)\n",
        "    plt.show()\n",
        "\n",
        "def plot_pca(data, label, title):\n",
        "    \"\"\"\n",
        "    Plot the PCA visualization of the data.\n",
        "    \"\"\"\n",
        "    pca = PCA(n_components=2)\n",
        "    X_2d = pca.fit_transform(data)\n",
        "    plt.figure(figsize=(6, 5))\n",
        "    plt.scatter(X_2d[:, 0], X_2d[:, 1], c=label, cmap=plt.cm.Spectral)\n",
        "    plt.title(title)\n",
        "    plt.show()\n",
        "\n",
        "def plot_hist(data, label, title):\n",
        "    \"\"\"\n",
        "    Plot the histogram of the data.\n",
        "    \"\"\"\n",
        "    plt.figure(figsize=(6, 5))\n",
        "    plt.hist(data, bins=50, density=True, alpha=0.7, label=label)\n",
        "    plt.title(title)\n",
        "    plt.show()\n",
        "\n",
        "plot_tsne(test_real_before, test_y[test_y==1], 't-SNE visualization of real news before')\n",
        "plot_tsne(test_fake_before, test_y[test_y==0], 't-SNE visualization of fake news before')\n",
        "plot_tsne(test_real_after, test_y[test_y==1], 't-SNE visualization of real news after')\n",
        "plot_tsne(test_fake_after, test_y[test_y==0], 't-SNE visualization of fake news after')"
      ]
    },
    {
      "cell_type": "code",
      "execution_count": 44,
      "metadata": {
        "id": "Uv9NjnlwQ6jk"
      },
      "outputs": [],
      "source": [
        "# # Visualize out after for both real and fake news as graphs\n",
        "# G_after = nx.Graph()\n",
        "# for i in range(len(out_after)):\n",
        "#   G_after.add_node(i)\n",
        "# for i in range(len(out_after)):\n",
        "#     for j in range(len(out_after)):\n",
        "#         if i != j:\n",
        "#             G_after.add_edge(i, j, weight = np.linalg.norm(out_after[i] - out_after[j]))\n",
        "\n",
        "# # Define a layout for the nodes\n",
        "# pos = nx.spring_layout(G_after)\n",
        "\n",
        "# # REd color for real news, blue for fake news\n",
        "# color_map = []\n",
        "# for i in range(len(test_y)):\n",
        "#     if test_y[i] == 1:\n",
        "#         color_map.append('red')\n",
        "#     else:\n",
        "#         color_map.append('blue')\n",
        "\n",
        "# # Draw the subgraph using Matplotlib\n",
        "# nx.draw(G_after, pos, with_labels=True, node_size=300, node_color=color_map, font_size=10, font_color=\"black\",\n",
        "#         width=1.5,  # Increase the width of edges\n",
        "#         arrows=True)\n",
        "\n",
        "# plt.title(\"Sampled Directed Graph Visualization\")\n",
        "# plt.show()"
      ]
    }
  ],
  "metadata": {
    "kernelspec": {
      "display_name": "Python 3",
      "language": "python",
      "name": "python3"
    },
    "language_info": {
      "codemirror_mode": {
        "name": "ipython",
        "version": 3
      },
      "file_extension": ".py",
      "mimetype": "text/x-python",
      "name": "python",
      "nbconvert_exporter": "python",
      "pygments_lexer": "ipython3",
      "version": "3.10.12"
    },
    "orig_nbformat": 4,
    "colab": {
      "provenance": [],
      "include_colab_link": true
    }
  },
  "nbformat": 4,
  "nbformat_minor": 0
}